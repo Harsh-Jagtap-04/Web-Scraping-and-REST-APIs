{
 "cells": [
  {
   "cell_type": "code",
   "execution_count": 1,
   "id": "e346bfcc",
   "metadata": {},
   "outputs": [],
   "source": [
    "import requests\n",
    "response = requests.get('https://api.github.com/repos/octocat/hello-world')"
   ]
  },
  {
   "cell_type": "code",
   "execution_count": 2,
   "id": "47e1225f",
   "metadata": {},
   "outputs": [
    {
     "name": "stdout",
     "output_type": "stream",
     "text": [
      "{\"id\":1296269,\"node_id\":\"MDEwOlJlcG9zaXRvcnkxMjk2MjY5\",\"name\":\"Hello-World\",\"full_name\":\"octocat/Hello-World\",\"private\":false,\"owner\":{\"login\":\"octocat\",\"id\":583231,\"node_id\":\"MDQ6VXNlcjU4MzIzMQ==\",\"avatar_url\":\"https://avatars.githubusercontent.com/u/583231?v=4\",\"gravatar_id\":\"\",\"url\":\"https://api.github.com/users/octocat\",\"html_url\":\"https://github.com/octocat\",\"followers_url\":\"https://api.github.com/users/octocat/followers\",\"following_url\":\"https://api.github.com/users/octocat/following{/other_user}\",\"gists_url\":\"https://api.github.com/users/octocat/gists{/gist_id}\",\"starred_url\":\"https://api.github.com/users/octocat/starred{/owner}{/repo}\",\"subscriptions_url\":\"https://api.github.com/users/octocat/subscriptions\",\"organizations_url\":\"https://api.github.com/users/octocat/orgs\",\"repos_url\":\"https://api.github.com/users/octocat/repos\",\"events_url\":\"https://api.github.com/users/octocat/events{/privacy}\",\"received_events_url\":\"https://api.github.com/users/octocat/received_events\",\"type\":\"User\",\"site_admin\":false},\"html_url\":\"https://github.com/octocat/Hello-World\",\"description\":\"My first repository on GitHub!\",\"fork\":false,\"url\":\"https://api.github.com/repos/octocat/Hello-World\",\"forks_url\":\"https://api.github.com/repos/octocat/Hello-World/forks\",\"keys_url\":\"https://api.github.com/repos/octocat/Hello-World/keys{/key_id}\",\"collaborators_url\":\"https://api.github.com/repos/octocat/Hello-World/collaborators{/collaborator}\",\"teams_url\":\"https://api.github.com/repos/octocat/Hello-World/teams\",\"hooks_url\":\"https://api.github.com/repos/octocat/Hello-World/hooks\",\"issue_events_url\":\"https://api.github.com/repos/octocat/Hello-World/issues/events{/number}\",\"events_url\":\"https://api.github.com/repos/octocat/Hello-World/events\",\"assignees_url\":\"https://api.github.com/repos/octocat/Hello-World/assignees{/user}\",\"branches_url\":\"https://api.github.com/repos/octocat/Hello-World/branches{/branch}\",\"tags_url\":\"https://api.github.com/repos/octocat/Hello-World/tags\",\"blobs_url\":\"https://api.github.com/repos/octocat/Hello-World/git/blobs{/sha}\",\"git_tags_url\":\"https://api.github.com/repos/octocat/Hello-World/git/tags{/sha}\",\"git_refs_url\":\"https://api.github.com/repos/octocat/Hello-World/git/refs{/sha}\",\"trees_url\":\"https://api.github.com/repos/octocat/Hello-World/git/trees{/sha}\",\"statuses_url\":\"https://api.github.com/repos/octocat/Hello-World/statuses/{sha}\",\"languages_url\":\"https://api.github.com/repos/octocat/Hello-World/languages\",\"stargazers_url\":\"https://api.github.com/repos/octocat/Hello-World/stargazers\",\"contributors_url\":\"https://api.github.com/repos/octocat/Hello-World/contributors\",\"subscribers_url\":\"https://api.github.com/repos/octocat/Hello-World/subscribers\",\"subscription_url\":\"https://api.github.com/repos/octocat/Hello-World/subscription\",\"commits_url\":\"https://api.github.com/repos/octocat/Hello-World/commits{/sha}\",\"git_commits_url\":\"https://api.github.com/repos/octocat/Hello-World/git/commits{/sha}\",\"comments_url\":\"https://api.github.com/repos/octocat/Hello-World/comments{/number}\",\"issue_comment_url\":\"https://api.github.com/repos/octocat/Hello-World/issues/comments{/number}\",\"contents_url\":\"https://api.github.com/repos/octocat/Hello-World/contents/{+path}\",\"compare_url\":\"https://api.github.com/repos/octocat/Hello-World/compare/{base}...{head}\",\"merges_url\":\"https://api.github.com/repos/octocat/Hello-World/merges\",\"archive_url\":\"https://api.github.com/repos/octocat/Hello-World/{archive_format}{/ref}\",\"downloads_url\":\"https://api.github.com/repos/octocat/Hello-World/downloads\",\"issues_url\":\"https://api.github.com/repos/octocat/Hello-World/issues{/number}\",\"pulls_url\":\"https://api.github.com/repos/octocat/Hello-World/pulls{/number}\",\"milestones_url\":\"https://api.github.com/repos/octocat/Hello-World/milestones{/number}\",\"notifications_url\":\"https://api.github.com/repos/octocat/Hello-World/notifications{?since,all,participating}\",\"labels_url\":\"https://api.github.com/repos/octocat/Hello-World/labels{/name}\",\"releases_url\":\"https://api.github.com/repos/octocat/Hello-World/releases{/id}\",\"deployments_url\":\"https://api.github.com/repos/octocat/Hello-World/deployments\",\"created_at\":\"2011-01-26T19:01:12Z\",\"updated_at\":\"2024-06-11T23:31:57Z\",\"pushed_at\":\"2024-06-07T06:05:48Z\",\"git_url\":\"git://github.com/octocat/Hello-World.git\",\"ssh_url\":\"git@github.com:octocat/Hello-World.git\",\"clone_url\":\"https://github.com/octocat/Hello-World.git\",\"svn_url\":\"https://github.com/octocat/Hello-World\",\"homepage\":\"\",\"size\":1,\"stargazers_count\":2563,\"watchers_count\":2563,\"language\":null,\"has_issues\":true,\"has_projects\":true,\"has_downloads\":true,\"has_wiki\":true,\"has_pages\":false,\"has_discussions\":false,\"forks_count\":2257,\"mirror_url\":null,\"archived\":false,\"disabled\":false,\"open_issues_count\":1355,\"license\":null,\"allow_forking\":true,\"is_template\":false,\"web_commit_signoff_required\":false,\"topics\":[],\"visibility\":\"public\",\"forks\":2257,\"open_issues\":1355,\"watchers\":2563,\"default_branch\":\"master\",\"temp_clone_token\":null,\"network_count\":2257,\"subscribers_count\":1727}\n"
     ]
    }
   ],
   "source": [
    "print(response.text)"
   ]
  },
  {
   "cell_type": "code",
   "execution_count": 3,
   "id": "ea8aa734",
   "metadata": {},
   "outputs": [],
   "source": [
    "import json"
   ]
  },
  {
   "cell_type": "code",
   "execution_count": 4,
   "id": "47ce8dd7",
   "metadata": {},
   "outputs": [],
   "source": [
    "data_dict = json.loads(response.text)"
   ]
  },
  {
   "cell_type": "code",
   "execution_count": 5,
   "id": "37364e61",
   "metadata": {},
   "outputs": [
    {
     "data": {
      "text/plain": [
       "{'id': 1296269,\n",
       " 'node_id': 'MDEwOlJlcG9zaXRvcnkxMjk2MjY5',\n",
       " 'name': 'Hello-World',\n",
       " 'full_name': 'octocat/Hello-World',\n",
       " 'private': False,\n",
       " 'owner': {'login': 'octocat',\n",
       "  'id': 583231,\n",
       "  'node_id': 'MDQ6VXNlcjU4MzIzMQ==',\n",
       "  'avatar_url': 'https://avatars.githubusercontent.com/u/583231?v=4',\n",
       "  'gravatar_id': '',\n",
       "  'url': 'https://api.github.com/users/octocat',\n",
       "  'html_url': 'https://github.com/octocat',\n",
       "  'followers_url': 'https://api.github.com/users/octocat/followers',\n",
       "  'following_url': 'https://api.github.com/users/octocat/following{/other_user}',\n",
       "  'gists_url': 'https://api.github.com/users/octocat/gists{/gist_id}',\n",
       "  'starred_url': 'https://api.github.com/users/octocat/starred{/owner}{/repo}',\n",
       "  'subscriptions_url': 'https://api.github.com/users/octocat/subscriptions',\n",
       "  'organizations_url': 'https://api.github.com/users/octocat/orgs',\n",
       "  'repos_url': 'https://api.github.com/users/octocat/repos',\n",
       "  'events_url': 'https://api.github.com/users/octocat/events{/privacy}',\n",
       "  'received_events_url': 'https://api.github.com/users/octocat/received_events',\n",
       "  'type': 'User',\n",
       "  'site_admin': False},\n",
       " 'html_url': 'https://github.com/octocat/Hello-World',\n",
       " 'description': 'My first repository on GitHub!',\n",
       " 'fork': False,\n",
       " 'url': 'https://api.github.com/repos/octocat/Hello-World',\n",
       " 'forks_url': 'https://api.github.com/repos/octocat/Hello-World/forks',\n",
       " 'keys_url': 'https://api.github.com/repos/octocat/Hello-World/keys{/key_id}',\n",
       " 'collaborators_url': 'https://api.github.com/repos/octocat/Hello-World/collaborators{/collaborator}',\n",
       " 'teams_url': 'https://api.github.com/repos/octocat/Hello-World/teams',\n",
       " 'hooks_url': 'https://api.github.com/repos/octocat/Hello-World/hooks',\n",
       " 'issue_events_url': 'https://api.github.com/repos/octocat/Hello-World/issues/events{/number}',\n",
       " 'events_url': 'https://api.github.com/repos/octocat/Hello-World/events',\n",
       " 'assignees_url': 'https://api.github.com/repos/octocat/Hello-World/assignees{/user}',\n",
       " 'branches_url': 'https://api.github.com/repos/octocat/Hello-World/branches{/branch}',\n",
       " 'tags_url': 'https://api.github.com/repos/octocat/Hello-World/tags',\n",
       " 'blobs_url': 'https://api.github.com/repos/octocat/Hello-World/git/blobs{/sha}',\n",
       " 'git_tags_url': 'https://api.github.com/repos/octocat/Hello-World/git/tags{/sha}',\n",
       " 'git_refs_url': 'https://api.github.com/repos/octocat/Hello-World/git/refs{/sha}',\n",
       " 'trees_url': 'https://api.github.com/repos/octocat/Hello-World/git/trees{/sha}',\n",
       " 'statuses_url': 'https://api.github.com/repos/octocat/Hello-World/statuses/{sha}',\n",
       " 'languages_url': 'https://api.github.com/repos/octocat/Hello-World/languages',\n",
       " 'stargazers_url': 'https://api.github.com/repos/octocat/Hello-World/stargazers',\n",
       " 'contributors_url': 'https://api.github.com/repos/octocat/Hello-World/contributors',\n",
       " 'subscribers_url': 'https://api.github.com/repos/octocat/Hello-World/subscribers',\n",
       " 'subscription_url': 'https://api.github.com/repos/octocat/Hello-World/subscription',\n",
       " 'commits_url': 'https://api.github.com/repos/octocat/Hello-World/commits{/sha}',\n",
       " 'git_commits_url': 'https://api.github.com/repos/octocat/Hello-World/git/commits{/sha}',\n",
       " 'comments_url': 'https://api.github.com/repos/octocat/Hello-World/comments{/number}',\n",
       " 'issue_comment_url': 'https://api.github.com/repos/octocat/Hello-World/issues/comments{/number}',\n",
       " 'contents_url': 'https://api.github.com/repos/octocat/Hello-World/contents/{+path}',\n",
       " 'compare_url': 'https://api.github.com/repos/octocat/Hello-World/compare/{base}...{head}',\n",
       " 'merges_url': 'https://api.github.com/repos/octocat/Hello-World/merges',\n",
       " 'archive_url': 'https://api.github.com/repos/octocat/Hello-World/{archive_format}{/ref}',\n",
       " 'downloads_url': 'https://api.github.com/repos/octocat/Hello-World/downloads',\n",
       " 'issues_url': 'https://api.github.com/repos/octocat/Hello-World/issues{/number}',\n",
       " 'pulls_url': 'https://api.github.com/repos/octocat/Hello-World/pulls{/number}',\n",
       " 'milestones_url': 'https://api.github.com/repos/octocat/Hello-World/milestones{/number}',\n",
       " 'notifications_url': 'https://api.github.com/repos/octocat/Hello-World/notifications{?since,all,participating}',\n",
       " 'labels_url': 'https://api.github.com/repos/octocat/Hello-World/labels{/name}',\n",
       " 'releases_url': 'https://api.github.com/repos/octocat/Hello-World/releases{/id}',\n",
       " 'deployments_url': 'https://api.github.com/repos/octocat/Hello-World/deployments',\n",
       " 'created_at': '2011-01-26T19:01:12Z',\n",
       " 'updated_at': '2024-06-11T23:31:57Z',\n",
       " 'pushed_at': '2024-06-07T06:05:48Z',\n",
       " 'git_url': 'git://github.com/octocat/Hello-World.git',\n",
       " 'ssh_url': 'git@github.com:octocat/Hello-World.git',\n",
       " 'clone_url': 'https://github.com/octocat/Hello-World.git',\n",
       " 'svn_url': 'https://github.com/octocat/Hello-World',\n",
       " 'homepage': '',\n",
       " 'size': 1,\n",
       " 'stargazers_count': 2563,\n",
       " 'watchers_count': 2563,\n",
       " 'language': None,\n",
       " 'has_issues': True,\n",
       " 'has_projects': True,\n",
       " 'has_downloads': True,\n",
       " 'has_wiki': True,\n",
       " 'has_pages': False,\n",
       " 'has_discussions': False,\n",
       " 'forks_count': 2257,\n",
       " 'mirror_url': None,\n",
       " 'archived': False,\n",
       " 'disabled': False,\n",
       " 'open_issues_count': 1355,\n",
       " 'license': None,\n",
       " 'allow_forking': True,\n",
       " 'is_template': False,\n",
       " 'web_commit_signoff_required': False,\n",
       " 'topics': [],\n",
       " 'visibility': 'public',\n",
       " 'forks': 2257,\n",
       " 'open_issues': 1355,\n",
       " 'watchers': 2563,\n",
       " 'default_branch': 'master',\n",
       " 'temp_clone_token': None,\n",
       " 'network_count': 2257,\n",
       " 'subscribers_count': 1727}"
      ]
     },
     "execution_count": 5,
     "metadata": {},
     "output_type": "execute_result"
    }
   ],
   "source": [
    "data_dict"
   ]
  },
  {
   "cell_type": "code",
   "execution_count": 6,
   "id": "a0de14db",
   "metadata": {},
   "outputs": [],
   "source": [
    "def get_repo_details(username, repo_name):\n",
    "    print('Fetching information for {}/{}'.format(username, repo_name))\n",
    "    repo_details_url = \"https://api.github.com/repos/\" + username + \"/\" + repo_name\n",
    "    response = requests.get(repo_details_url)\n",
    "    if not response.ok:\n",
    "        print(\"Failed to fetch!\")\n",
    "        return {}\n",
    "    repo_data = json.loads(response.text)\n",
    "    return {\n",
    "        'description': repo_data['description'],\n",
    "        'watchers': repo_data['watchers_count'],\n",
    "        'open_issues': repo_data['open_issues_count'],\n",
    "        'created_at': repo_data['created_at'],\n",
    "        'updated_at': repo_data['updated_at']\n",
    "    }"
   ]
  },
  {
   "cell_type": "code",
   "execution_count": 7,
   "id": "b43265a8",
   "metadata": {},
   "outputs": [
    {
     "name": "stdout",
     "output_type": "stream",
     "text": [
      "Fetching information for tensorflow/tensorflow\n"
     ]
    },
    {
     "data": {
      "text/plain": [
       "{'description': 'An Open Source Machine Learning Framework for Everyone',\n",
       " 'watchers': 183392,\n",
       " 'open_issues': 3002,\n",
       " 'created_at': '2015-11-07T01:19:20Z',\n",
       " 'updated_at': '2024-06-12T05:17:56Z'}"
      ]
     },
     "execution_count": 7,
     "metadata": {},
     "output_type": "execute_result"
    }
   ],
   "source": [
    "get_repo_details('tensorflow', 'tensorflow')"
   ]
  },
  {
   "cell_type": "code",
   "execution_count": 8,
   "id": "11a1695e",
   "metadata": {},
   "outputs": [],
   "source": [
    "from bs4 import BeautifulSoup\n",
    "def get_topic_page(topic):\n",
    "    # Construct the URL\n",
    "    topic_repos_url = 'https://github.com/topics/' + topic\n",
    "    \n",
    "    # Get the HTML page content using requests\n",
    "    response = requests.get(topic_repos_url)\n",
    "    \n",
    "    # Ensure that the reponse is valid\n",
    "    # if not response.ok:\n",
    "    \n",
    "    if response.status_code != 200:\n",
    "        print('Status code:', response.status_code)\n",
    "        raise Exception('Failed to fetch web page ' + topic_repos_url)\n",
    "    \n",
    "    # Construct a beautiful soup document\n",
    "    doc = BeautifulSoup(response.text)\n",
    "    \n",
    "    return doc"
   ]
  },
  {
   "cell_type": "code",
   "execution_count": 9,
   "id": "85d12e8f",
   "metadata": {},
   "outputs": [],
   "source": [
    "doc = get_topic_page('Machine Learning')"
   ]
  },
  {
   "cell_type": "code",
   "execution_count": 10,
   "id": "bc072bdd",
   "metadata": {},
   "outputs": [],
   "source": [
    "article_tags = doc.find_all('article', class_='border rounded color-shadow-small color-bg-subtle my-4')"
   ]
  },
  {
   "cell_type": "code",
   "execution_count": 11,
   "id": "bbc6df8c",
   "metadata": {},
   "outputs": [],
   "source": [
    "base_url = 'https:\\\\github.com'\n",
    "\n",
    "def parse_repository(article_tag):\n",
    "    # <a> tags containing username, repository name and URL\n",
    "    a_tags = article_tag.h3.find_all('a')\n",
    "    # Owner's username\n",
    "    username = a_tags[0].text.strip()\n",
    "    # Repository name\n",
    "    repo_name = a_tags[1].text.strip()\n",
    "    # Repository URL\n",
    "    repo_url = base_url + a_tags[1]['href'].strip()\n",
    "    # Star count\n",
    "    stars_tag = article_tag.find('span', class_='Counter js-social-count')\n",
    "    star_count = parse_star_count(stars_tag.text.strip())\n",
    "    # Return a dictionary\n",
    "    return {\n",
    "        'repository_name': repo_name,\n",
    "        'owner_username': username,        \n",
    "        'stars': star_count,\n",
    "        'repository_url': repo_url\n",
    "    }"
   ]
  },
  {
   "cell_type": "code",
   "execution_count": 12,
   "id": "bb356827",
   "metadata": {},
   "outputs": [],
   "source": [
    "def parse_star_count(stars_str):\n",
    "    stars_str = stars_str.strip()\n",
    "    if stars_str[-1] == 'k':\n",
    "        return int(float(stars_str[:-1]) * 1000)\n",
    "    else:\n",
    "        return int(stars_str)"
   ]
  },
  {
   "cell_type": "code",
   "execution_count": 13,
   "id": "d536b735",
   "metadata": {},
   "outputs": [],
   "source": [
    "top_repositories = [parse_repository(tag) for tag in article_tags]"
   ]
  },
  {
   "cell_type": "code",
   "execution_count": 14,
   "id": "cd3a3358",
   "metadata": {},
   "outputs": [],
   "source": [
    "def add_repo_details(repos):\n",
    "    return [dict(**get_repo_details(repo['owner_username'], repo['repository_name']), **repo) for repo in repos]"
   ]
  },
  {
   "cell_type": "code",
   "execution_count": 15,
   "id": "4d9513d2",
   "metadata": {},
   "outputs": [
    {
     "name": "stdout",
     "output_type": "stream",
     "text": [
      "Fetching information for tensorflow/tensorflow\n",
      "Fetching information for huggingface/transformers\n",
      "Fetching information for pytorch/pytorch\n",
      "Fetching information for netdata/netdata\n",
      "Fetching information for microsoft/ML-For-Beginners\n"
     ]
    },
    {
     "data": {
      "text/plain": [
       "[{'description': 'An Open Source Machine Learning Framework for Everyone',\n",
       "  'watchers': 183392,\n",
       "  'open_issues': 3002,\n",
       "  'created_at': '2015-11-07T01:19:20Z',\n",
       "  'updated_at': '2024-06-12T05:17:56Z',\n",
       "  'repository_name': 'tensorflow',\n",
       "  'owner_username': 'tensorflow',\n",
       "  'stars': 183000,\n",
       "  'repository_url': 'https:\\\\github.com/tensorflow/tensorflow'},\n",
       " {'description': '🤗 Transformers: State-of-the-art Machine Learning for Pytorch, TensorFlow, and JAX.',\n",
       "  'watchers': 127448,\n",
       "  'open_issues': 1115,\n",
       "  'created_at': '2018-10-29T13:56:00Z',\n",
       "  'updated_at': '2024-06-12T05:14:33Z',\n",
       "  'repository_name': 'transformers',\n",
       "  'owner_username': 'huggingface',\n",
       "  'stars': 127000,\n",
       "  'repository_url': 'https:\\\\github.com/huggingface/transformers'},\n",
       " {'description': 'Tensors and Dynamic neural networks in Python with strong GPU acceleration',\n",
       "  'watchers': 79366,\n",
       "  'open_issues': 14146,\n",
       "  'created_at': '2016-08-13T05:26:41Z',\n",
       "  'updated_at': '2024-06-12T05:34:01Z',\n",
       "  'repository_name': 'pytorch',\n",
       "  'owner_username': 'pytorch',\n",
       "  'stars': 79400,\n",
       "  'repository_url': 'https:\\\\github.com/pytorch/pytorch'},\n",
       " {'description': 'The open-source observability platform everyone needs!',\n",
       "  'watchers': 68757,\n",
       "  'open_issues': 231,\n",
       "  'created_at': '2013-06-17T18:39:10Z',\n",
       "  'updated_at': '2024-06-12T02:42:49Z',\n",
       "  'repository_name': 'netdata',\n",
       "  'owner_username': 'netdata',\n",
       "  'stars': 68800,\n",
       "  'repository_url': 'https:\\\\github.com/netdata/netdata'},\n",
       " {'description': '12 weeks, 26 lessons, 52 quizzes, classic Machine Learning for all',\n",
       "  'watchers': 67671,\n",
       "  'open_issues': 1,\n",
       "  'created_at': '2021-03-03T01:34:05Z',\n",
       "  'updated_at': '2024-06-12T02:19:10Z',\n",
       "  'repository_name': 'ML-For-Beginners',\n",
       "  'owner_username': 'microsoft',\n",
       "  'stars': 67700,\n",
       "  'repository_url': 'https:\\\\github.com/microsoft/ML-For-Beginners'}]"
      ]
     },
     "execution_count": 15,
     "metadata": {},
     "output_type": "execute_result"
    }
   ],
   "source": [
    "add_repo_details(top_repositories[:5])"
   ]
  },
  {
   "cell_type": "code",
   "execution_count": null,
   "id": "53c257b5",
   "metadata": {},
   "outputs": [],
   "source": []
  }
 ],
 "metadata": {
  "kernelspec": {
   "display_name": "Python 3 (ipykernel)",
   "language": "python",
   "name": "python3"
  },
  "language_info": {
   "codemirror_mode": {
    "name": "ipython",
    "version": 3
   },
   "file_extension": ".py",
   "mimetype": "text/x-python",
   "name": "python",
   "nbconvert_exporter": "python",
   "pygments_lexer": "ipython3",
   "version": "3.11.5"
  }
 },
 "nbformat": 4,
 "nbformat_minor": 5
}
