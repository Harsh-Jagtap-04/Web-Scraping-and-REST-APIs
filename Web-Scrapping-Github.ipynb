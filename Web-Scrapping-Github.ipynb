{
 "cells": [
  {
   "cell_type": "code",
   "execution_count": 1,
   "id": "26198d37",
   "metadata": {},
   "outputs": [],
   "source": [
    "import requests"
   ]
  },
  {
   "cell_type": "code",
   "execution_count": 2,
   "id": "e18d719b",
   "metadata": {},
   "outputs": [],
   "source": [
    "topic_url = \"https://github.com/topics/machine-learning\""
   ]
  },
  {
   "cell_type": "code",
   "execution_count": 3,
   "id": "74bac547",
   "metadata": {},
   "outputs": [],
   "source": [
    "response = requests.get(topic_url)"
   ]
  },
  {
   "cell_type": "code",
   "execution_count": 4,
   "id": "51e6cc29",
   "metadata": {},
   "outputs": [
    {
     "data": {
      "text/plain": [
       "requests.models.Response"
      ]
     },
     "execution_count": 4,
     "metadata": {},
     "output_type": "execute_result"
    }
   ],
   "source": [
    "type(response)"
   ]
  },
  {
   "cell_type": "code",
   "execution_count": 5,
   "id": "ed55e0ed",
   "metadata": {},
   "outputs": [
    {
     "data": {
      "text/plain": [
       "200"
      ]
     },
     "execution_count": 5,
     "metadata": {},
     "output_type": "execute_result"
    }
   ],
   "source": [
    "response.status_code"
   ]
  },
  {
   "cell_type": "code",
   "execution_count": 6,
   "id": "b4ee97ef",
   "metadata": {},
   "outputs": [],
   "source": [
    "page_content = response.text"
   ]
  },
  {
   "cell_type": "code",
   "execution_count": 7,
   "id": "30e57350",
   "metadata": {},
   "outputs": [
    {
     "data": {
      "text/plain": [
       "509101"
      ]
     },
     "execution_count": 7,
     "metadata": {},
     "output_type": "execute_result"
    }
   ],
   "source": [
    "len(page_content)"
   ]
  },
  {
   "cell_type": "code",
   "execution_count": 8,
   "id": "0342d473",
   "metadata": {},
   "outputs": [
    {
     "data": {
      "text/plain": [
       "'\\n\\n<!DOCTYPE html>\\n<html\\n  lang=\"en\"\\n  \\n  data-color-mode=\"auto\" data-light-theme=\"light\" data-dark-theme=\"dark\"\\n  data-a11y-animated-images=\"system\" data-a11y-link-underlines=\"true\"\\n  >\\n\\n\\n  <head>\\n    <meta charset=\"utf-8\">\\n  <link rel=\"dns-prefetch\" href=\"https://github.githubassets.com\">\\n  <link rel=\"dns-prefetch\" href=\"https://avatars.githubusercontent.com\">\\n  <link rel=\"dns-prefetch\" href=\"https://github-cloud.s3.amazonaws.com\">\\n  <link rel=\"dns-prefetch\" href=\"https://user-images.githubusercontent.com/\">\\n  <link rel=\"preconnect\" href=\"https://github.githubassets.com\" crossorigin>\\n  <link rel=\"preconnect\" href=\"https://avatars.githubusercontent.com\">\\n\\n  \\n\\n  <link crossorigin=\"anonymous\" media=\"all\" rel=\"stylesheet\" href=\"https://github.githubassets.com/assets/light-f552bab6ce72.css\" /><link crossorigin=\"anonymous\" media=\"all\" rel=\"stylesheet\" href=\"https://github.githubassets.com/assets/dark-4589f64a2275.css\" /><link data-color-theme=\"dark_dimmed\" crossorigin=\"anonymous\" media=\"all'"
      ]
     },
     "execution_count": 8,
     "metadata": {},
     "output_type": "execute_result"
    }
   ],
   "source": [
    "page_content[:1000]"
   ]
  },
  {
   "cell_type": "code",
   "execution_count": 9,
   "id": "8c7e6658",
   "metadata": {},
   "outputs": [],
   "source": [
    "with open('machine-learning-topics.html', 'w', encoding='utf-8') as file:\n",
    "    file.write(page_content)"
   ]
  },
  {
   "cell_type": "code",
   "execution_count": 10,
   "id": "e22afed5",
   "metadata": {},
   "outputs": [],
   "source": [
    "from bs4 import BeautifulSoup"
   ]
  },
  {
   "cell_type": "code",
   "execution_count": 11,
   "id": "a8f92b5d",
   "metadata": {},
   "outputs": [],
   "source": [
    "?BeautifulSoup"
   ]
  },
  {
   "cell_type": "code",
   "execution_count": 12,
   "id": "c58874e0",
   "metadata": {},
   "outputs": [],
   "source": [
    "with open('machine-learning-topics.html','r', encoding= 'utf-8') as file:\n",
    "    html_source = file.read()"
   ]
  },
  {
   "cell_type": "code",
   "execution_count": 13,
   "id": "4524275a",
   "metadata": {},
   "outputs": [
    {
     "data": {
      "text/plain": [
       "'\\n\\n<!DOCTYPE html>\\n<html\\n  lang=\"en\"\\n  \\n  data-color-mode=\"auto\" data-light-theme=\"light\" data-dark-theme=\"dark\"\\n  data-a11y-animated-images=\"system\" data-a11y-link-underlines=\"true\"\\n  >\\n\\n\\n  <head>\\n    <meta charset=\"utf-8\">\\n  <link rel=\"dns-prefetch\" href=\"https://github.githubassets.com\">\\n  <link rel=\"dns-prefetch\" href=\"https://avatars.githubusercontent.com\">\\n  <link rel=\"dns-prefetch\" href=\"https://github-cloud.s3.amazonaws.com\">\\n  <link rel=\"dns-prefetch\" href=\"https://user-images.githubusercontent.com/\">\\n  <link rel=\"preconnect\" href=\"https://github.githubassets.com\" crossorigin>\\n  <link rel=\"preconnect\" href=\"https://avatars.githubusercontent.com\">\\n\\n  \\n\\n  <link crossorigin=\"anonymous\" media=\"all\" rel=\"stylesheet\" href=\"https://github.githubassets.com/assets/light-f552bab6ce72.css\" /><link crossorigin=\"anonymous\" media=\"all\" rel=\"stylesheet\" href=\"https://github.githubassets.com/assets/dark-4589f64a2275.css\" /><link data-color-theme=\"dark_dimmed\" crossorigin=\"anonymous\" media=\"all'"
      ]
     },
     "execution_count": 13,
     "metadata": {},
     "output_type": "execute_result"
    }
   ],
   "source": [
    "html_source[:1000]"
   ]
  },
  {
   "cell_type": "code",
   "execution_count": 14,
   "id": "457a3814",
   "metadata": {},
   "outputs": [],
   "source": [
    "doc = BeautifulSoup(html_source)"
   ]
  },
  {
   "cell_type": "code",
   "execution_count": 15,
   "id": "bd457c45",
   "metadata": {},
   "outputs": [
    {
     "data": {
      "text/plain": [
       "bs4.BeautifulSoup"
      ]
     },
     "execution_count": 15,
     "metadata": {},
     "output_type": "execute_result"
    }
   ],
   "source": [
    "type(doc)"
   ]
  },
  {
   "cell_type": "code",
   "execution_count": 16,
   "id": "7d147b4c",
   "metadata": {},
   "outputs": [],
   "source": [
    "title_tag = doc.title"
   ]
  },
  {
   "cell_type": "code",
   "execution_count": 17,
   "id": "1e7984be",
   "metadata": {},
   "outputs": [
    {
     "data": {
      "text/plain": [
       "bs4.element.Tag"
      ]
     },
     "execution_count": 17,
     "metadata": {},
     "output_type": "execute_result"
    }
   ],
   "source": [
    "type(title_tag)"
   ]
  },
  {
   "cell_type": "code",
   "execution_count": 18,
   "id": "7181d36e",
   "metadata": {},
   "outputs": [
    {
     "data": {
      "text/plain": [
       "<title>machine-learning · GitHub Topics · GitHub</title>"
      ]
     },
     "execution_count": 18,
     "metadata": {},
     "output_type": "execute_result"
    }
   ],
   "source": [
    "title_tag"
   ]
  },
  {
   "cell_type": "code",
   "execution_count": 19,
   "id": "c64f7d0b",
   "metadata": {},
   "outputs": [
    {
     "data": {
      "text/plain": [
       "'title'"
      ]
     },
     "execution_count": 19,
     "metadata": {},
     "output_type": "execute_result"
    }
   ],
   "source": [
    "title_tag.name"
   ]
  },
  {
   "cell_type": "code",
   "execution_count": 20,
   "id": "cb952b42",
   "metadata": {},
   "outputs": [
    {
     "data": {
      "text/plain": [
       "'machine-learning · GitHub Topics · GitHub'"
      ]
     },
     "execution_count": 20,
     "metadata": {},
     "output_type": "execute_result"
    }
   ],
   "source": [
    "title_tag.text"
   ]
  },
  {
   "cell_type": "code",
   "execution_count": 21,
   "id": "245f17df",
   "metadata": {},
   "outputs": [],
   "source": [
    "first_link = doc.a"
   ]
  },
  {
   "cell_type": "code",
   "execution_count": 22,
   "id": "82932cdf",
   "metadata": {},
   "outputs": [
    {
     "data": {
      "text/plain": [
       "<a class=\"px-2 py-4 color-bg-accent-emphasis color-fg-on-emphasis show-on-focus js-skip-to-content\" data-skip-target-assigned=\"false\" href=\"#start-of-content\">Skip to content</a>"
      ]
     },
     "execution_count": 22,
     "metadata": {},
     "output_type": "execute_result"
    }
   ],
   "source": [
    "first_link"
   ]
  },
  {
   "cell_type": "code",
   "execution_count": 23,
   "id": "2ffdf8d4",
   "metadata": {},
   "outputs": [
    {
     "data": {
      "text/plain": [
       "'Skip to content'"
      ]
     },
     "execution_count": 23,
     "metadata": {},
     "output_type": "execute_result"
    }
   ],
   "source": [
    "first_link.text"
   ]
  },
  {
   "cell_type": "code",
   "execution_count": 24,
   "id": "05ffd6db",
   "metadata": {},
   "outputs": [],
   "source": [
    "first_img = doc.img"
   ]
  },
  {
   "cell_type": "code",
   "execution_count": 25,
   "id": "da898682",
   "metadata": {},
   "outputs": [
    {
     "data": {
      "text/plain": [
       "<img alt=\"transformers\" class=\"d-block width-full\" loading=\"lazy\" src=\"https://repository-images.githubusercontent.com/155220641/a16c4880-a501-11ea-9e8f-646cf611702e\"/>"
      ]
     },
     "execution_count": 25,
     "metadata": {},
     "output_type": "execute_result"
    }
   ],
   "source": [
    "first_img"
   ]
  },
  {
   "cell_type": "code",
   "execution_count": 26,
   "id": "84cf3b5d",
   "metadata": {},
   "outputs": [],
   "source": [
    "all_links_tags = doc.find_all('a')"
   ]
  },
  {
   "cell_type": "code",
   "execution_count": 27,
   "id": "e8f1b578",
   "metadata": {},
   "outputs": [
    {
     "data": {
      "text/plain": [
       "447"
      ]
     },
     "execution_count": 27,
     "metadata": {},
     "output_type": "execute_result"
    }
   ],
   "source": [
    "len(all_links_tags)"
   ]
  },
  {
   "cell_type": "code",
   "execution_count": 28,
   "id": "75333ed5",
   "metadata": {},
   "outputs": [
    {
     "data": {
      "text/plain": [
       "[<a class=\"px-2 py-4 color-bg-accent-emphasis color-fg-on-emphasis show-on-focus js-skip-to-content\" data-skip-target-assigned=\"false\" href=\"#start-of-content\">Skip to content</a>,\n",
       " <a aria-label=\"Homepage\" class=\"mr-lg-3 color-fg-inherit flex-order-2\" data-ga-click=\"(Logged out) Header, go to homepage, icon:logo-wordmark\" href=\"https://github.com/\">\n",
       " <svg aria-hidden=\"true\" class=\"octicon octicon-mark-github\" data-view-component=\"true\" height=\"32\" version=\"1.1\" viewbox=\"0 0 16 16\" width=\"32\">\n",
       " <path d=\"M8 0c4.42 0 8 3.58 8 8a8.013 8.013 0 0 1-5.45 7.59c-.4.08-.55-.17-.55-.38 0-.27.01-1.13.01-2.2 0-.75-.25-1.23-.54-1.48 1.78-.2 3.65-.88 3.65-3.95 0-.88-.31-1.59-.82-2.15.08-.2.36-1.02-.08-2.12 0 0-.67-.22-2.2.82-.64-.18-1.32-.27-2-.27-.68 0-1.36.09-2 .27-1.53-1.03-2.2-.82-2.2-.82-.44 1.1-.16 1.92-.08 2.12-.51.56-.82 1.28-.82 2.15 0 3.06 1.86 3.75 3.64 3.95-.23.2-.44.55-.51 1.07-.46.21-1.61.55-2.33-.66-.15-.24-.6-.83-1.23-.82-.67.01-.27.38.01.53.34.19.73.9.82 1.13.16.45.68 1.31 2.69.94 0 .67.01 1.3.01 1.49 0 .21-.15.45-.55.38A7.995 7.995 0 0 1 0 8c0-4.42 3.58-8 8-8Z\"></path>\n",
       " </svg>\n",
       " </a>,\n",
       " <a class=\"d-inline-block d-lg-none flex-order-1 f5 no-underline border color-border-default rounded-2 px-2 py-1 color-fg-inherit\" data-ga-click=\"(Logged out) Header, clicked Sign in, text:sign-in\" data-hydro-click='{\"event_type\":\"authentication.click\",\"payload\":{\"location_in_page\":\"site header menu\",\"repository_id\":null,\"auth_type\":\"SIGN_UP\",\"originating_url\":\"https://github.com/topics/machine-learning\",\"user_id\":null}}' data-hydro-click-hmac=\"7eb9786355f56661977ccb26c053c0ee183ddc9d8ba1b1a414c745de8ed35acd\" href=\"/login?return_to=https%3A%2F%2Fgithub.com%2Ftopics%2Fmachine-learning\">\n",
       "           Sign in\n",
       "         </a>]"
      ]
     },
     "execution_count": 28,
     "metadata": {},
     "output_type": "execute_result"
    }
   ],
   "source": [
    "all_links_tags[:3]"
   ]
  },
  {
   "cell_type": "code",
   "execution_count": 29,
   "id": "0650cc77",
   "metadata": {},
   "outputs": [
    {
     "data": {
      "text/plain": [
       "<a class=\"px-2 py-4 color-bg-accent-emphasis color-fg-on-emphasis show-on-focus js-skip-to-content\" data-skip-target-assigned=\"false\" href=\"#start-of-content\">Skip to content</a>"
      ]
     },
     "execution_count": 29,
     "metadata": {},
     "output_type": "execute_result"
    }
   ],
   "source": [
    "first_link"
   ]
  },
  {
   "cell_type": "code",
   "execution_count": 30,
   "id": "a644b44a",
   "metadata": {},
   "outputs": [
    {
     "data": {
      "text/plain": [
       "'#start-of-content'"
      ]
     },
     "execution_count": 30,
     "metadata": {},
     "output_type": "execute_result"
    }
   ],
   "source": [
    "first_link['href']"
   ]
  },
  {
   "cell_type": "code",
   "execution_count": 31,
   "id": "44177711",
   "metadata": {},
   "outputs": [
    {
     "data": {
      "text/plain": [
       "['px-2',\n",
       " 'py-4',\n",
       " 'color-bg-accent-emphasis',\n",
       " 'color-fg-on-emphasis',\n",
       " 'show-on-focus',\n",
       " 'js-skip-to-content']"
      ]
     },
     "execution_count": 31,
     "metadata": {},
     "output_type": "execute_result"
    }
   ],
   "source": [
    "first_link['class']"
   ]
  },
  {
   "cell_type": "code",
   "execution_count": 32,
   "id": "280e6316",
   "metadata": {},
   "outputs": [
    {
     "data": {
      "text/plain": [
       "{'href': '#start-of-content',\n",
       " 'data-skip-target-assigned': 'false',\n",
       " 'class': ['px-2',\n",
       "  'py-4',\n",
       "  'color-bg-accent-emphasis',\n",
       "  'color-fg-on-emphasis',\n",
       "  'show-on-focus',\n",
       "  'js-skip-to-content']}"
      ]
     },
     "execution_count": 32,
     "metadata": {},
     "output_type": "execute_result"
    }
   ],
   "source": [
    "first_link.attrs"
   ]
  },
  {
   "cell_type": "code",
   "execution_count": 33,
   "id": "4acfec6c",
   "metadata": {},
   "outputs": [],
   "source": [
    "img_tags = doc.find_all('img')"
   ]
  },
  {
   "cell_type": "code",
   "execution_count": 34,
   "id": "b08cbd2d",
   "metadata": {},
   "outputs": [],
   "source": [
    "img_5 = img_tags[5]"
   ]
  },
  {
   "cell_type": "code",
   "execution_count": 35,
   "id": "85140c46",
   "metadata": {},
   "outputs": [
    {
     "data": {
      "text/plain": [
       "'https://repository-images.githubusercontent.com/264818686/c9bae91d-ad2d-491c-876f-b6948f1a7c66'"
      ]
     },
     "execution_count": 35,
     "metadata": {},
     "output_type": "execute_result"
    }
   ],
   "source": [
    "img_5['src']"
   ]
  },
  {
   "cell_type": "code",
   "execution_count": 36,
   "id": "d060ac82",
   "metadata": {},
   "outputs": [
    {
     "data": {
      "text/plain": [
       "'yolov5'"
      ]
     },
     "execution_count": 36,
     "metadata": {},
     "output_type": "execute_result"
    }
   ],
   "source": [
    "img_5['alt']"
   ]
  },
  {
   "cell_type": "code",
   "execution_count": 37,
   "id": "23ca73f9",
   "metadata": {},
   "outputs": [
    {
     "data": {
      "text/plain": [
       "[<img alt=\"yolov5\" class=\"d-block width-full\" loading=\"lazy\" src=\"https://repository-images.githubusercontent.com/264818686/c9bae91d-ad2d-491c-876f-b6948f1a7c66\"/>]"
      ]
     },
     "execution_count": 37,
     "metadata": {},
     "output_type": "execute_result"
    }
   ],
   "source": [
    "doc.find_all('img', {'alt': 'yolov5'})"
   ]
  },
  {
   "cell_type": "code",
   "execution_count": 38,
   "id": "7e014834",
   "metadata": {},
   "outputs": [
    {
     "data": {
      "text/plain": [
       "<img alt=\"yolov5\" class=\"d-block width-full\" loading=\"lazy\" src=\"https://repository-images.githubusercontent.com/264818686/c9bae91d-ad2d-491c-876f-b6948f1a7c66\"/>"
      ]
     },
     "execution_count": 38,
     "metadata": {},
     "output_type": "execute_result"
    }
   ],
   "source": [
    "doc.find('img', {'alt': 'yolov5'}) #only first element"
   ]
  },
  {
   "cell_type": "code",
   "execution_count": 39,
   "id": "663cb283",
   "metadata": {},
   "outputs": [
    {
     "data": {
      "text/plain": [
       "'https://repository-images.githubusercontent.com/1644196/ddfc1e00-6638-11e9-9b80-0fe7b9aedd72'"
      ]
     },
     "execution_count": 39,
     "metadata": {},
     "output_type": "execute_result"
    }
   ],
   "source": [
    "doc.find('img', {'alt': 'julia'})['src']"
   ]
  },
  {
   "cell_type": "code",
   "execution_count": 40,
   "id": "7ba89971",
   "metadata": {},
   "outputs": [],
   "source": [
    "matching_tags = doc.find_all(class_='HeaderMenu-link')"
   ]
  },
  {
   "cell_type": "code",
   "execution_count": 41,
   "id": "84d5dca6",
   "metadata": {},
   "outputs": [
    {
     "data": {
      "text/plain": [
       "[<button aria-expanded=\"false\" class=\"HeaderMenu-link border-0 width-full width-lg-auto px-0 px-lg-2 py-3 py-lg-2 no-wrap d-flex flex-items-center flex-justify-between js-details-target\" type=\"button\">\n",
       "         Product\n",
       "         <svg aria-hidden=\"true\" class=\"octicon octicon-chevron-down HeaderMenu-icon ml-1\" data-view-component=\"true\" height=\"16\" opacity=\"0.5\" version=\"1.1\" viewbox=\"0 0 16 16\" width=\"16\">\n",
       " <path d=\"M12.78 5.22a.749.749 0 0 1 0 1.06l-4.25 4.25a.749.749 0 0 1-1.06 0L3.22 6.28a.749.749 0 1 1 1.06-1.06L8 8.939l3.72-3.719a.749.749 0 0 1 1.06 0Z\"></path>\n",
       " </svg>\n",
       " </button>,\n",
       " <button aria-expanded=\"false\" class=\"HeaderMenu-link border-0 width-full width-lg-auto px-0 px-lg-2 py-3 py-lg-2 no-wrap d-flex flex-items-center flex-justify-between js-details-target\" type=\"button\">\n",
       "         Solutions\n",
       "         <svg aria-hidden=\"true\" class=\"octicon octicon-chevron-down HeaderMenu-icon ml-1\" data-view-component=\"true\" height=\"16\" opacity=\"0.5\" version=\"1.1\" viewbox=\"0 0 16 16\" width=\"16\">\n",
       " <path d=\"M12.78 5.22a.749.749 0 0 1 0 1.06l-4.25 4.25a.749.749 0 0 1-1.06 0L3.22 6.28a.749.749 0 1 1 1.06-1.06L8 8.939l3.72-3.719a.749.749 0 0 1 1.06 0Z\"></path>\n",
       " </svg>\n",
       " </button>,\n",
       " <button aria-expanded=\"false\" class=\"HeaderMenu-link border-0 width-full width-lg-auto px-0 px-lg-2 py-3 py-lg-2 no-wrap d-flex flex-items-center flex-justify-between js-details-target\" type=\"button\">\n",
       "         Open Source\n",
       "         <svg aria-hidden=\"true\" class=\"octicon octicon-chevron-down HeaderMenu-icon ml-1\" data-view-component=\"true\" height=\"16\" opacity=\"0.5\" version=\"1.1\" viewbox=\"0 0 16 16\" width=\"16\">\n",
       " <path d=\"M12.78 5.22a.749.749 0 0 1 0 1.06l-4.25 4.25a.749.749 0 0 1-1.06 0L3.22 6.28a.749.749 0 1 1 1.06-1.06L8 8.939l3.72-3.719a.749.749 0 0 1 1.06 0Z\"></path>\n",
       " </svg>\n",
       " </button>,\n",
       " <button aria-expanded=\"false\" class=\"HeaderMenu-link border-0 width-full width-lg-auto px-0 px-lg-2 py-3 py-lg-2 no-wrap d-flex flex-items-center flex-justify-between js-details-target\" type=\"button\">\n",
       "         Enterprise\n",
       "         <svg aria-hidden=\"true\" class=\"octicon octicon-chevron-down HeaderMenu-icon ml-1\" data-view-component=\"true\" height=\"16\" opacity=\"0.5\" version=\"1.1\" viewbox=\"0 0 16 16\" width=\"16\">\n",
       " <path d=\"M12.78 5.22a.749.749 0 0 1 0 1.06l-4.25 4.25a.749.749 0 0 1-1.06 0L3.22 6.28a.749.749 0 1 1 1.06-1.06L8 8.939l3.72-3.719a.749.749 0 0 1 1.06 0Z\"></path>\n",
       " </svg>\n",
       " </button>,\n",
       " <a class=\"HeaderMenu-link no-underline px-0 px-lg-2 py-3 py-lg-2 d-block d-lg-inline-block\" data-analytics-event='{\"category\":\"Header menu top item (logged out)\",\"action\":\"click to go to Pricing\",\"label\":\"ref_cta:Pricing;\"}' href=\"https://github.com/pricing\">Pricing</a>,\n",
       " <a class=\"HeaderMenu-link HeaderMenu-link--sign-in flex-shrink-0 no-underline d-block d-lg-inline-block border border-lg-0 rounded rounded-lg-0 p-2 p-lg-0\" data-ga-click=\"(Logged out) Header, clicked Sign in, text:sign-in\" data-hydro-click='{\"event_type\":\"authentication.click\",\"payload\":{\"location_in_page\":\"site header menu\",\"repository_id\":null,\"auth_type\":\"SIGN_UP\",\"originating_url\":\"https://github.com/topics/machine-learning\",\"user_id\":null}}' data-hydro-click-hmac=\"7eb9786355f56661977ccb26c053c0ee183ddc9d8ba1b1a414c745de8ed35acd\" href=\"/login?return_to=https%3A%2F%2Fgithub.com%2Ftopics%2Fmachine-learning\">\n",
       "               Sign in\n",
       "             </a>,\n",
       " <a class=\"HeaderMenu-link HeaderMenu-link--sign-up flex-shrink-0 d-none d-lg-inline-block no-underline border color-border-default rounded px-2 py-1\" data-analytics-event='{\"category\":\"Sign up\",\"action\":\"click to sign up for account\",\"label\":\"ref_page:/topics/machine-learning;ref_cta:Sign up;ref_loc:header logged out\"}' data-hydro-click='{\"event_type\":\"authentication.click\",\"payload\":{\"location_in_page\":\"site header menu\",\"repository_id\":null,\"auth_type\":\"SIGN_UP\",\"originating_url\":\"https://github.com/topics/machine-learning\",\"user_id\":null}}' data-hydro-click-hmac=\"7eb9786355f56661977ccb26c053c0ee183ddc9d8ba1b1a414c745de8ed35acd\" href=\"/signup?ref_cta=Sign+up&amp;ref_loc=header+logged+out&amp;ref_page=%2Ftopics%2Fmachine-learning&amp;source=header\">\n",
       "               Sign up\n",
       "             </a>]"
      ]
     },
     "execution_count": 41,
     "metadata": {},
     "output_type": "execute_result"
    }
   ],
   "source": [
    "matching_tags"
   ]
  },
  {
   "cell_type": "code",
   "execution_count": 42,
   "id": "7bb13039",
   "metadata": {},
   "outputs": [
    {
     "data": {
      "text/plain": [
       "7"
      ]
     },
     "execution_count": 42,
     "metadata": {},
     "output_type": "execute_result"
    }
   ],
   "source": [
    "len(matching_tags)"
   ]
  },
  {
   "cell_type": "code",
   "execution_count": 43,
   "id": "d3e4bd9a",
   "metadata": {},
   "outputs": [],
   "source": [
    "header_link_tags = doc.find_all('a', class_='HeaderMenu-link')"
   ]
  },
  {
   "cell_type": "code",
   "execution_count": 44,
   "id": "2aaafffa",
   "metadata": {},
   "outputs": [
    {
     "data": {
      "text/plain": [
       "[<a class=\"HeaderMenu-link no-underline px-0 px-lg-2 py-3 py-lg-2 d-block d-lg-inline-block\" data-analytics-event='{\"category\":\"Header menu top item (logged out)\",\"action\":\"click to go to Pricing\",\"label\":\"ref_cta:Pricing;\"}' href=\"https://github.com/pricing\">Pricing</a>,\n",
       " <a class=\"HeaderMenu-link HeaderMenu-link--sign-in flex-shrink-0 no-underline d-block d-lg-inline-block border border-lg-0 rounded rounded-lg-0 p-2 p-lg-0\" data-ga-click=\"(Logged out) Header, clicked Sign in, text:sign-in\" data-hydro-click='{\"event_type\":\"authentication.click\",\"payload\":{\"location_in_page\":\"site header menu\",\"repository_id\":null,\"auth_type\":\"SIGN_UP\",\"originating_url\":\"https://github.com/topics/machine-learning\",\"user_id\":null}}' data-hydro-click-hmac=\"7eb9786355f56661977ccb26c053c0ee183ddc9d8ba1b1a414c745de8ed35acd\" href=\"/login?return_to=https%3A%2F%2Fgithub.com%2Ftopics%2Fmachine-learning\">\n",
       "               Sign in\n",
       "             </a>,\n",
       " <a class=\"HeaderMenu-link HeaderMenu-link--sign-up flex-shrink-0 d-none d-lg-inline-block no-underline border color-border-default rounded px-2 py-1\" data-analytics-event='{\"category\":\"Sign up\",\"action\":\"click to sign up for account\",\"label\":\"ref_page:/topics/machine-learning;ref_cta:Sign up;ref_loc:header logged out\"}' data-hydro-click='{\"event_type\":\"authentication.click\",\"payload\":{\"location_in_page\":\"site header menu\",\"repository_id\":null,\"auth_type\":\"SIGN_UP\",\"originating_url\":\"https://github.com/topics/machine-learning\",\"user_id\":null}}' data-hydro-click-hmac=\"7eb9786355f56661977ccb26c053c0ee183ddc9d8ba1b1a414c745de8ed35acd\" href=\"/signup?ref_cta=Sign+up&amp;ref_loc=header+logged+out&amp;ref_page=%2Ftopics%2Fmachine-learning&amp;source=header\">\n",
       "               Sign up\n",
       "             </a>]"
      ]
     },
     "execution_count": 44,
     "metadata": {},
     "output_type": "execute_result"
    }
   ],
   "source": [
    "header_link_tags"
   ]
  },
  {
   "cell_type": "code",
   "execution_count": 45,
   "id": "9bf355ba",
   "metadata": {},
   "outputs": [
    {
     "data": {
      "text/plain": [
       "'https://github.com/pricing'"
      ]
     },
     "execution_count": 45,
     "metadata": {},
     "output_type": "execute_result"
    }
   ],
   "source": [
    "header_link_tags[0]['href']"
   ]
  },
  {
   "cell_type": "code",
   "execution_count": 46,
   "id": "c46347cf",
   "metadata": {},
   "outputs": [
    {
     "data": {
      "text/plain": [
       "[{'title': 'Pricing', 'url': 'https:\\\\github.comhttps://github.com/pricing'},\n",
       " {'title': 'Sign in',\n",
       "  'url': 'https:\\\\github.com/login?return_to=https%3A%2F%2Fgithub.com%2Ftopics%2Fmachine-learning'},\n",
       " {'title': 'Sign up',\n",
       "  'url': 'https:\\\\github.com/signup?ref_cta=Sign+up&ref_loc=header+logged+out&ref_page=%2Ftopics%2Fmachine-learning&source=header'}]"
      ]
     },
     "execution_count": 46,
     "metadata": {},
     "output_type": "execute_result"
    }
   ],
   "source": [
    "header_links = []\n",
    "base_url = 'https:\\\\github.com'\n",
    "\n",
    "for tag in header_link_tags:\n",
    "    header_links.append(\n",
    "    {\n",
    "        'title': tag.text.strip(),\n",
    "        'url': base_url + tag['href']\n",
    "    })\n",
    "    \n",
    "header_links"
   ]
  },
  {
   "cell_type": "code",
   "execution_count": 47,
   "id": "80730efe",
   "metadata": {},
   "outputs": [
    {
     "data": {
      "text/plain": [
       "'\\n              Sign up\\n            '"
      ]
     },
     "execution_count": 47,
     "metadata": {},
     "output_type": "execute_result"
    }
   ],
   "source": [
    "header_link_tags[-1].text"
   ]
  },
  {
   "cell_type": "code",
   "execution_count": 48,
   "id": "aae34c23",
   "metadata": {},
   "outputs": [
    {
     "data": {
      "text/plain": [
       "'Sign up'"
      ]
     },
     "execution_count": 48,
     "metadata": {},
     "output_type": "execute_result"
    }
   ],
   "source": [
    "header_link_tags[-1].text.strip()"
   ]
  },
  {
   "cell_type": "code",
   "execution_count": 49,
   "id": "79abcbf8",
   "metadata": {},
   "outputs": [],
   "source": [
    "sample_html = \"\"\"\n",
    "<html>\n",
    "    <body>\n",
    "        <ul class=\"top-list\">\n",
    "            <li>Item 1</li>\n",
    "            <li>Item 2</li>\n",
    "            <li>\n",
    "                <ul>\n",
    "                    <li>Item 3.1</li>\n",
    "                    <li>Item 3.2</li>\n",
    "                    <li>Item 3.3</li>\n",
    "                </ul> \n",
    "            </li>\n",
    "        </ul>\n",
    "    </body>\n",
    "</html>\"\"\""
   ]
  },
  {
   "cell_type": "code",
   "execution_count": 50,
   "id": "ddd6907b",
   "metadata": {},
   "outputs": [],
   "source": [
    "sample_doc = BeautifulSoup(sample_html)"
   ]
  },
  {
   "cell_type": "code",
   "execution_count": 51,
   "id": "2eada0c7",
   "metadata": {},
   "outputs": [],
   "source": [
    "list_tag = sample_doc.find('ul', class_='top-list')"
   ]
  },
  {
   "cell_type": "code",
   "execution_count": 52,
   "id": "376c026c",
   "metadata": {},
   "outputs": [],
   "source": [
    "list_item_tags = list_tag.find_all('li', recursive=False)"
   ]
  },
  {
   "cell_type": "code",
   "execution_count": 53,
   "id": "e98c7d92",
   "metadata": {},
   "outputs": [
    {
     "data": {
      "text/plain": [
       "[<li>Item 1</li>,\n",
       " <li>Item 2</li>,\n",
       " <li>\n",
       " <ul>\n",
       " <li>Item 3.1</li>\n",
       " <li>Item 3.2</li>\n",
       " <li>Item 3.3</li>\n",
       " </ul>\n",
       " </li>]"
      ]
     },
     "execution_count": 53,
     "metadata": {},
     "output_type": "execute_result"
    }
   ],
   "source": [
    "list_item_tags"
   ]
  },
  {
   "cell_type": "code",
   "execution_count": 54,
   "id": "1c8eb64b",
   "metadata": {},
   "outputs": [
    {
     "data": {
      "text/plain": [
       "[<li>Item 1</li>,\n",
       " <li>Item 2</li>,\n",
       " <li>\n",
       " <ul>\n",
       " <li>Item 3.1</li>\n",
       " <li>Item 3.2</li>\n",
       " <li>Item 3.3</li>\n",
       " </ul>\n",
       " </li>,\n",
       " <li>Item 3.1</li>,\n",
       " <li>Item 3.2</li>,\n",
       " <li>Item 3.3</li>]"
      ]
     },
     "execution_count": 54,
     "metadata": {},
     "output_type": "execute_result"
    }
   ],
   "source": [
    "list_tag.find_all('li')"
   ]
  },
  {
   "cell_type": "code",
   "execution_count": 55,
   "id": "e954fda5",
   "metadata": {},
   "outputs": [],
   "source": [
    "def get_topic_page(topic):\n",
    "    # Construct the URL\n",
    "    topic_repos_url = 'https://github.com/topics/' + topic\n",
    "    \n",
    "    # Get the HTML page content using requests\n",
    "    response = requests.get(topic_repos_url)\n",
    "    \n",
    "    # Ensure that the reponse is valid\n",
    "    # if not response.ok:\n",
    "    \n",
    "    if response.status_code != 200:\n",
    "        print('Status code:', response.status_code)\n",
    "        raise Exception('Failed to fetch web page ' + topic_repos_url)\n",
    "    \n",
    "    # Construct a beautiful soup document\n",
    "    doc = BeautifulSoup(response.text)\n",
    "    \n",
    "    return doc"
   ]
  },
  {
   "cell_type": "code",
   "execution_count": 56,
   "id": "c14c89d5",
   "metadata": {},
   "outputs": [],
   "source": [
    "doc = get_topic_page('Machine Learning')"
   ]
  },
  {
   "cell_type": "code",
   "execution_count": 57,
   "id": "600d6f21",
   "metadata": {},
   "outputs": [
    {
     "data": {
      "text/plain": [
       "'machine-learning · GitHub Topics · GitHub'"
      ]
     },
     "execution_count": 57,
     "metadata": {},
     "output_type": "execute_result"
    }
   ],
   "source": [
    "doc.title.text"
   ]
  },
  {
   "cell_type": "code",
   "execution_count": 58,
   "id": "17a88eca",
   "metadata": {},
   "outputs": [],
   "source": [
    "doc1 = get_topic_page('data Analysis')"
   ]
  },
  {
   "cell_type": "code",
   "execution_count": 59,
   "id": "07cd3f55",
   "metadata": {},
   "outputs": [
    {
     "data": {
      "text/plain": [
       "'data-analysis · GitHub Topics · GitHub'"
      ]
     },
     "execution_count": 59,
     "metadata": {},
     "output_type": "execute_result"
    }
   ],
   "source": [
    "doc1.title.text"
   ]
  },
  {
   "cell_type": "code",
   "execution_count": 60,
   "id": "e92f3e2e",
   "metadata": {},
   "outputs": [],
   "source": [
    "article_tags = doc.find_all('article', class_='border rounded color-shadow-small color-bg-subtle my-4')"
   ]
  },
  {
   "cell_type": "code",
   "execution_count": 61,
   "id": "e7bc0155",
   "metadata": {},
   "outputs": [
    {
     "data": {
      "text/plain": [
       "20"
      ]
     },
     "execution_count": 61,
     "metadata": {},
     "output_type": "execute_result"
    }
   ],
   "source": [
    "len(article_tags)"
   ]
  },
  {
   "cell_type": "code",
   "execution_count": 62,
   "id": "33950889",
   "metadata": {},
   "outputs": [],
   "source": [
    "article_tag = article_tags[4]"
   ]
  },
  {
   "cell_type": "code",
   "execution_count": 63,
   "id": "0052081b",
   "metadata": {},
   "outputs": [
    {
     "data": {
      "text/plain": [
       "<article class=\"border rounded color-shadow-small color-bg-subtle my-4\">\n",
       "<a class=\"overflow-hidden flex-items-center rounded-top-2 Link color-border-muted border-bottom d-flex position-relative\" data-hydro-click='{\"event_type\":\"explore.click\",\"payload\":{\"click_context\":\"REPOSITORY_CARD\",\"click_target\":\"REPOSITORY\",\"click_visual_representation\":\"REPOSITORY_IMAGE\",\"actor_id\":null,\"record_id\":343965132,\"originating_url\":\"https://github.com/topics/machine-learning\",\"user_id\":null}}' data-hydro-click-hmac=\"c911d4e221d5b78abbd94601cfa8880fb22ee6b844c2d4de0f8a969d63e38a3f\" data-turbo=\"false\" data-view-component=\"true\" href=\"/microsoft/ML-For-Beginners\" style=\"max-height:275px\">\n",
       "<img alt=\"ML-For-Beginners\" class=\"d-block width-full\" loading=\"lazy\" src=\"https://repository-images.githubusercontent.com/343965132/549b1a80-c897-11eb-9436-918072d2e0f8\"/>\n",
       "</a>\n",
       "<div class=\"px-3\">\n",
       "<div class=\"d-flex flex-justify-between flex-items-start flex-wrap gap-2 my-3\">\n",
       "<div class=\"d-flex flex-1\">\n",
       "<span style=\"margin-top:2px\">\n",
       "<svg aria-hidden=\"true\" class=\"octicon octicon-repo color-fg-muted mr-2\" data-view-component=\"true\" height=\"16\" version=\"1.1\" viewbox=\"0 0 16 16\" width=\"16\">\n",
       "<path d=\"M2 2.5A2.5 2.5 0 0 1 4.5 0h8.75a.75.75 0 0 1 .75.75v12.5a.75.75 0 0 1-.75.75h-2.5a.75.75 0 0 1 0-1.5h1.75v-2h-8a1 1 0 0 0-.714 1.7.75.75 0 1 1-1.072 1.05A2.495 2.495 0 0 1 2 11.5Zm10.5-1h-8a1 1 0 0 0-1 1v6.708A2.486 2.486 0 0 1 4.5 9h8ZM5 12.25a.25.25 0 0 1 .25-.25h3.5a.25.25 0 0 1 .25.25v3.25a.25.25 0 0 1-.4.2l-1.45-1.087a.249.249 0 0 0-.3 0L5.4 15.7a.25.25 0 0 1-.4-.2Z\"></path>\n",
       "</svg>\n",
       "</span>\n",
       "<h3 class=\"f3 color-fg-muted text-normal lh-condensed\">\n",
       "<a class=\"Link\" data-hydro-click='{\"event_type\":\"explore.click\",\"payload\":{\"click_context\":\"REPOSITORY_CARD\",\"click_target\":\"OWNER\",\"click_visual_representation\":\"REPOSITORY_OWNER_HEADING\",\"actor_id\":null,\"record_id\":6154722,\"originating_url\":\"https://github.com/topics/machine-learning\",\"user_id\":null}}' data-hydro-click-hmac=\"ce7c1880986fcc5cf78fd675165bf59f7da7919ad46e02c6c4ca45011e1f6f97\" data-turbo=\"false\" data-view-component=\"true\" href=\"/microsoft\">\n",
       "            microsoft\n",
       "</a>          /\n",
       "          <a class=\"Link text-bold wb-break-word\" data-hydro-click='{\"event_type\":\"explore.click\",\"payload\":{\"click_context\":\"REPOSITORY_CARD\",\"click_target\":\"REPOSITORY\",\"click_visual_representation\":\"REPOSITORY_NAME_HEADING\",\"actor_id\":null,\"record_id\":343965132,\"originating_url\":\"https://github.com/topics/machine-learning\",\"user_id\":null}}' data-hydro-click-hmac=\"04eb0a73e352b25eddc48d7faa71ca594c32afbf1c64f09e38e88a5abed6eee7\" data-turbo=\"false\" data-view-component=\"true\" href=\"/microsoft/ML-For-Beginners\">\n",
       "            ML-For-Beginners\n",
       "</a> </h3>\n",
       "</div>\n",
       "<div class=\"d-flex flex-items-center\">\n",
       "<div class=\"BtnGroup d-flex\" data-view-component=\"true\">\n",
       "<a aria-label=\"You must be signed in to star a repository\" class=\"tooltipped tooltipped-s btn-sm btn BtnGroup-item color-bg-default\" data-hydro-click='{\"event_type\":\"authentication.click\",\"payload\":{\"location_in_page\":\"star button\",\"repository_id\":343965132,\"auth_type\":\"LOG_IN\",\"originating_url\":\"https://github.com/topics/machine-learning\",\"user_id\":null}}' data-hydro-click-hmac=\"845f2fc2372f54cb0161c07c1a99707b276393cfc598f8a09c7839c3ac1c00c1\" data-view-component=\"true\" href=\"/login?return_to=%2Fmicrosoft%2FML-For-Beginners\" rel=\"nofollow\"> <svg aria-hidden=\"true\" class=\"octicon octicon-star v-align-text-bottom d-inline-block mr-2\" data-view-component=\"true\" height=\"16\" version=\"1.1\" viewbox=\"0 0 16 16\" width=\"16\">\n",
       "<path d=\"M8 .25a.75.75 0 0 1 .673.418l1.882 3.815 4.21.612a.75.75 0 0 1 .416 1.279l-3.046 2.97.719 4.192a.751.751 0 0 1-1.088.791L8 12.347l-3.766 1.98a.75.75 0 0 1-1.088-.79l.72-4.194L.818 6.374a.75.75 0 0 1 .416-1.28l4.21-.611L7.327.668A.75.75 0 0 1 8 .25Zm0 2.445L6.615 5.5a.75.75 0 0 1-.564.41l-3.097.45 2.24 2.184a.75.75 0 0 1 .216.664l-.528 3.084 2.769-1.456a.75.75 0 0 1 .698 0l2.77 1.456-.53-3.084a.75.75 0 0 1 .216-.664l2.24-2.183-3.096-.45a.75.75 0 0 1-.564-.41L8 2.694Z\"></path>\n",
       "</svg><span class=\"d-inline\" data-view-component=\"true\">\n",
       "          Star\n",
       "</span> <span aria-label=\"67671 users starred this repository\" class=\"Counter js-social-count\" data-plural-suffix=\"users starred this repository\" data-singular-suffix=\"user starred this repository\" data-turbo-replace=\"true\" data-view-component=\"true\" id=\"repo-stars-counter-star\" title=\"67,671\">67.7k</span>\n",
       "</a> <button aria-label=\"You must be signed in to add this repository to a list\" class=\"btn-sm btn BtnGroup-item px-2\" data-view-component=\"true\" disabled=\"disabled\" type=\"button\"> <svg aria-hidden=\"true\" class=\"octicon octicon-triangle-down\" data-view-component=\"true\" height=\"16\" version=\"1.1\" viewbox=\"0 0 16 16\" width=\"16\">\n",
       "<path d=\"m4.427 7.427 3.396 3.396a.25.25 0 0 0 .354 0l3.396-3.396A.25.25 0 0 0 11.396 7H4.604a.25.25 0 0 0-.177.427Z\"></path>\n",
       "</svg>\n",
       "</button></div>\n",
       "</div>\n",
       "</div>\n",
       "</div>\n",
       "<nav aria-label=\"Repository menu\" class=\"tabnav px-3 mb-0\" data-view-component=\"true\">\n",
       "<ul class=\"tabnav-tabs\" data-view-component=\"true\">\n",
       "<li class=\"d-inline-flex\" data-view-component=\"true\">\n",
       "<a aria-current=\"true\" class=\"tabnav-tab f6 px-2 py-1\" data-hydro-click='{\"event_type\":\"explore.click\",\"payload\":{\"click_context\":\"REPOSITORY_CARD\",\"click_target\":\"REPOSITORY\",\"click_visual_representation\":\"CODE_TAB\",\"actor_id\":null,\"record_id\":343965132,\"originating_url\":\"https://github.com/topics/machine-learning\",\"user_id\":null}}' data-hydro-click-hmac=\"760d19e20be3f8861bfbfbc09bc13387db9cf93003371ca93c4afb9603fac47e\" data-turbo=\"false\" data-view-component=\"true\" href=\"/microsoft/ML-For-Beginners\" id=\"code-tab-343965132\">\n",
       "<svg aria-hidden=\"true\" class=\"octicon octicon-code color-fg-default\" data-view-component=\"true\" height=\"16\" version=\"1.1\" viewbox=\"0 0 16 16\" width=\"16\">\n",
       "<path d=\"m11.28 3.22 4.25 4.25a.75.75 0 0 1 0 1.06l-4.25 4.25a.749.749 0 0 1-1.275-.326.749.749 0 0 1 .215-.734L13.94 8l-3.72-3.72a.749.749 0 0 1 .326-1.275.749.749 0 0 1 .734.215Zm-6.56 0a.751.751 0 0 1 1.042.018.751.751 0 0 1 .018 1.042L2.06 8l3.72 3.72a.749.749 0 0 1-.326 1.275.749.749 0 0 1-.734-.215L.47 8.53a.75.75 0 0 1 0-1.06Z\"></path>\n",
       "</svg> Code\n",
       "\n",
       "    \n",
       "</a></li>\n",
       "<li class=\"d-inline-flex\" data-view-component=\"true\">\n",
       "<a class=\"tabnav-tab f6 px-2 py-1\" data-hydro-click='{\"event_type\":\"explore.click\",\"payload\":{\"click_context\":\"REPOSITORY_CARD\",\"click_target\":\"REPOSITORY_ISSUES\",\"click_visual_representation\":\"ISSUES_TAB\",\"actor_id\":null,\"record_id\":343965132,\"originating_url\":\"https://github.com/topics/machine-learning\",\"user_id\":null}}' data-hydro-click-hmac=\"8cb99edcf3190aff4c872287958c5f89ba6c9072af244ca999248bc2fa2e01e8\" data-turbo=\"false\" data-view-component=\"true\" href=\"/microsoft/ML-For-Beginners/issues\" id=\"issues-tab-343965132\">\n",
       "<svg aria-hidden=\"true\" class=\"octicon octicon-issue-opened color-fg-muted\" data-view-component=\"true\" height=\"16\" version=\"1.1\" viewbox=\"0 0 16 16\" width=\"16\">\n",
       "<path d=\"M8 9.5a1.5 1.5 0 1 0 0-3 1.5 1.5 0 0 0 0 3Z\"></path><path d=\"M8 0a8 8 0 1 1 0 16A8 8 0 0 1 8 0ZM1.5 8a6.5 6.5 0 1 0 13 0 6.5 6.5 0 0 0-13 0Z\"></path>\n",
       "</svg> Issues\n",
       "\n",
       "    \n",
       "</a></li>\n",
       "<li class=\"d-inline-flex\" data-view-component=\"true\">\n",
       "<a class=\"tabnav-tab f6 px-2 py-1\" data-hydro-click='{\"event_type\":\"explore.click\",\"payload\":{\"click_context\":\"REPOSITORY_CARD\",\"click_target\":\"REPOSITORY_PULL_REQUESTS\",\"click_visual_representation\":\"PULL_REQUESTS_TAB\",\"actor_id\":null,\"record_id\":343965132,\"originating_url\":\"https://github.com/topics/machine-learning\",\"user_id\":null}}' data-hydro-click-hmac=\"31e3707e59c8f8ff7676021f536643d5fbed671e20c09a99516026608857d016\" data-turbo=\"false\" data-view-component=\"true\" href=\"/microsoft/ML-For-Beginners/pulls\" id=\"pull-requests-tab-343965132\">\n",
       "<svg aria-hidden=\"true\" class=\"octicon octicon-git-pull-request color-fg-muted\" data-view-component=\"true\" height=\"16\" version=\"1.1\" viewbox=\"0 0 16 16\" width=\"16\">\n",
       "<path d=\"M1.5 3.25a2.25 2.25 0 1 1 3 2.122v5.256a2.251 2.251 0 1 1-1.5 0V5.372A2.25 2.25 0 0 1 1.5 3.25Zm5.677-.177L9.573.677A.25.25 0 0 1 10 .854V2.5h1A2.5 2.5 0 0 1 13.5 5v5.628a2.251 2.251 0 1 1-1.5 0V5a1 1 0 0 0-1-1h-1v1.646a.25.25 0 0 1-.427.177L7.177 3.427a.25.25 0 0 1 0-.354ZM3.75 2.5a.75.75 0 1 0 0 1.5.75.75 0 0 0 0-1.5Zm0 9.5a.75.75 0 1 0 0 1.5.75.75 0 0 0 0-1.5Zm8.25.75a.75.75 0 1 0 1.5 0 .75.75 0 0 0-1.5 0Z\"></path>\n",
       "</svg> Pull requests\n",
       "\n",
       "    \n",
       "</a></li>\n",
       "<li class=\"d-inline-flex\" data-view-component=\"true\">\n",
       "<a class=\"tabnav-tab f6 px-2 py-1\" data-hydro-click='{\"event_type\":\"explore.click\",\"payload\":{\"click_context\":\"REPOSITORY_CARD\",\"click_target\":\"REPOSITORY_DISCUSSIONS\",\"click_visual_representation\":\"DISCUSSIONS_TAB\",\"actor_id\":null,\"record_id\":343965132,\"originating_url\":\"https://github.com/topics/machine-learning\",\"user_id\":null}}' data-hydro-click-hmac=\"a65a4f2c9e44975a472ceb328b51d1bdaee8c1154fe2d93dc8c470ab467004ce\" data-turbo=\"false\" data-view-component=\"true\" href=\"/microsoft/ML-For-Beginners/discussions\" id=\"discussions-tab-343965132\">\n",
       "<svg aria-hidden=\"true\" class=\"octicon octicon-comment-discussion color-fg-muted\" data-view-component=\"true\" height=\"16\" version=\"1.1\" viewbox=\"0 0 16 16\" width=\"16\">\n",
       "<path d=\"M1.75 1h8.5c.966 0 1.75.784 1.75 1.75v5.5A1.75 1.75 0 0 1 10.25 10H7.061l-2.574 2.573A1.458 1.458 0 0 1 2 11.543V10h-.25A1.75 1.75 0 0 1 0 8.25v-5.5C0 1.784.784 1 1.75 1ZM1.5 2.75v5.5c0 .138.112.25.25.25h1a.75.75 0 0 1 .75.75v2.19l2.72-2.72a.749.749 0 0 1 .53-.22h3.5a.25.25 0 0 0 .25-.25v-5.5a.25.25 0 0 0-.25-.25h-8.5a.25.25 0 0 0-.25.25Zm13 2a.25.25 0 0 0-.25-.25h-.5a.75.75 0 0 1 0-1.5h.5c.966 0 1.75.784 1.75 1.75v5.5A1.75 1.75 0 0 1 14.25 12H14v1.543a1.458 1.458 0 0 1-2.487 1.03L9.22 12.28a.749.749 0 0 1 .326-1.275.749.749 0 0 1 .734.215l2.22 2.22v-2.19a.75.75 0 0 1 .75-.75h1a.25.25 0 0 0 .25-.25Z\"></path>\n",
       "</svg> Discussions\n",
       "\n",
       "    \n",
       "</a></li>\n",
       "</ul>\n",
       "</nav>\n",
       "<div class=\"color-bg-default rounded-bottom-2\">\n",
       "<div class=\"px-3 pt-3\">\n",
       "<p class=\"color-fg-muted mb-0\">12 weeks, 26 lessons, 52 quizzes, classic Machine Learning for all</p>\n",
       "</div>\n",
       "<div class=\"d-flex flex-wrap border-bottom color-border-muted px-3 pt-2 pb-2\">\n",
       "<a class=\"topic-tag topic-tag-link Link f6 mb-2\" data-hydro-click='{\"event_type\":\"explore.click\",\"payload\":{\"click_context\":\"REPOSITORY_CARD\",\"click_target\":\"TOPIC\",\"click_visual_representation\":\"TOPIC_TAG\",\"actor_id\":null,\"record_id\":84,\"originating_url\":\"https://github.com/topics/machine-learning\",\"user_id\":null}}' data-hydro-click-hmac=\"b109101bb4837bfa71872d3f91cc233ca504d3e4440b852b496504cb2ef4ce1e\" data-view-component=\"true\" href=\"/topics/python\" title=\"Topic: python\">\n",
       "            python\n",
       "</a> <a class=\"topic-tag topic-tag-link Link f6 mb-2\" data-hydro-click='{\"event_type\":\"explore.click\",\"payload\":{\"click_context\":\"REPOSITORY_CARD\",\"click_target\":\"TOPIC\",\"click_visual_representation\":\"TOPIC_TAG\",\"actor_id\":null,\"record_id\":486,\"originating_url\":\"https://github.com/topics/machine-learning\",\"user_id\":null}}' data-hydro-click-hmac=\"35d2103152b5ca0a43592b2a736ec626ddc25d3814eb0efac4300fcc2263a858\" data-view-component=\"true\" href=\"/topics/education\" title=\"Topic: education\">\n",
       "            education\n",
       "</a> <a class=\"topic-tag topic-tag-link Link f6 mb-2\" data-hydro-click='{\"event_type\":\"explore.click\",\"payload\":{\"click_context\":\"REPOSITORY_CARD\",\"click_target\":\"TOPIC\",\"click_visual_representation\":\"TOPIC_TAG\",\"actor_id\":null,\"record_id\":2129,\"originating_url\":\"https://github.com/topics/machine-learning\",\"user_id\":null}}' data-hydro-click-hmac=\"1d85bacfd8d90069b0b99e605fa8d43eeaf86526224cbc2bfabf61b6e150d1d5\" data-view-component=\"true\" href=\"/topics/data-science\" title=\"Topic: data-science\">\n",
       "            data-science\n",
       "</a> <a class=\"topic-tag topic-tag-link Link f6 mb-2\" data-hydro-click='{\"event_type\":\"explore.click\",\"payload\":{\"click_context\":\"REPOSITORY_CARD\",\"click_target\":\"TOPIC\",\"click_visual_representation\":\"TOPIC_TAG\",\"actor_id\":null,\"record_id\":2169,\"originating_url\":\"https://github.com/topics/machine-learning\",\"user_id\":null}}' data-hydro-click-hmac=\"6d5abc3bcec58036e59195af83f61e3ccf347b7a4c7ad55a3fef28e9bb031443\" data-view-component=\"true\" href=\"/topics/machine-learning\" title=\"Topic: machine-learning\">\n",
       "            machine-learning\n",
       "</a> <a class=\"topic-tag topic-tag-link Link f6 mb-2\" data-hydro-click='{\"event_type\":\"explore.click\",\"payload\":{\"click_context\":\"REPOSITORY_CARD\",\"click_target\":\"TOPIC\",\"click_visual_representation\":\"TOPIC_TAG\",\"actor_id\":null,\"record_id\":7525,\"originating_url\":\"https://github.com/topics/machine-learning\",\"user_id\":null}}' data-hydro-click-hmac=\"78094ac39c79159588e271c0ae13909e7fa0294342fdf1a7b418d43b75484c1a\" data-view-component=\"true\" href=\"/topics/r\" title=\"Topic: r\">\n",
       "            r\n",
       "</a> <a class=\"topic-tag topic-tag-link Link f6 mb-2\" data-hydro-click='{\"event_type\":\"explore.click\",\"payload\":{\"click_context\":\"REPOSITORY_CARD\",\"click_target\":\"TOPIC\",\"click_visual_representation\":\"TOPIC_TAG\",\"actor_id\":null,\"record_id\":13856,\"originating_url\":\"https://github.com/topics/machine-learning\",\"user_id\":null}}' data-hydro-click-hmac=\"2c164ae15cce2cb75d399d9ec0d349efe8a19a77d12b98c6823e27b3bdac5cc3\" data-view-component=\"true\" href=\"/topics/scikit-learn\" title=\"Topic: scikit-learn\">\n",
       "            scikit-learn\n",
       "</a> <a class=\"topic-tag topic-tag-link Link f6 mb-2\" data-hydro-click='{\"event_type\":\"explore.click\",\"payload\":{\"click_context\":\"REPOSITORY_CARD\",\"click_target\":\"TOPIC\",\"click_visual_representation\":\"TOPIC_TAG\",\"actor_id\":null,\"record_id\":14080,\"originating_url\":\"https://github.com/topics/machine-learning\",\"user_id\":null}}' data-hydro-click-hmac=\"1eb516f8a2a0a7b1aaaa9b188a616fbb58e9d0ad0a66b1ce623bd5540542413c\" data-view-component=\"true\" href=\"/topics/machine-learning-algorithms\" title=\"Topic: machine-learning-algorithms\">\n",
       "            machine-learning-algorithms\n",
       "</a> <a class=\"topic-tag topic-tag-link Link f6 mb-2\" data-hydro-click='{\"event_type\":\"explore.click\",\"payload\":{\"click_context\":\"REPOSITORY_CARD\",\"click_target\":\"TOPIC\",\"click_visual_representation\":\"TOPIC_TAG\",\"actor_id\":null,\"record_id\":21229,\"originating_url\":\"https://github.com/topics/machine-learning\",\"user_id\":null}}' data-hydro-click-hmac=\"83558aefac496895f94d12e73e35bb63688a076cf42d943781f08caff231d550\" data-view-component=\"true\" href=\"/topics/ml\" title=\"Topic: ml\">\n",
       "            ml\n",
       "</a> <a class=\"topic-tag topic-tag-link Link f6 mb-2\" data-hydro-click='{\"event_type\":\"explore.click\",\"payload\":{\"click_context\":\"REPOSITORY_CARD\",\"click_target\":\"TOPIC\",\"click_visual_representation\":\"TOPIC_TAG\",\"actor_id\":null,\"record_id\":75122,\"originating_url\":\"https://github.com/topics/machine-learning\",\"user_id\":null}}' data-hydro-click-hmac=\"bd15078375d5f7cf14131d1861ea3d006a467bbe05facb371f23643a75a3d606\" data-view-component=\"true\" href=\"/topics/machinelearning\" title=\"Topic: machinelearning\">\n",
       "            machinelearning\n",
       "</a> <a class=\"topic-tag topic-tag-link Link f6 mb-2\" data-hydro-click='{\"event_type\":\"explore.click\",\"payload\":{\"click_context\":\"REPOSITORY_CARD\",\"click_target\":\"TOPIC\",\"click_visual_representation\":\"TOPIC_TAG\",\"actor_id\":null,\"record_id\":737607,\"originating_url\":\"https://github.com/topics/machine-learning\",\"user_id\":null}}' data-hydro-click-hmac=\"172ddae1e7ffc56ec4c1b16983910869196467e47450727a2066a68191ffdafb\" data-view-component=\"true\" href=\"/topics/machinelearning-python\" title=\"Topic: machinelearning-python\">\n",
       "            machinelearning-python\n",
       "</a> <a class=\"topic-tag topic-tag-link Link f6 mb-2\" data-hydro-click='{\"event_type\":\"explore.click\",\"payload\":{\"click_context\":\"REPOSITORY_CARD\",\"click_target\":\"TOPIC\",\"click_visual_representation\":\"TOPIC_TAG\",\"actor_id\":null,\"record_id\":895482,\"originating_url\":\"https://github.com/topics/machine-learning\",\"user_id\":null}}' data-hydro-click-hmac=\"7852f5e1a30eb6cc5ec961c6df896268396b30df6acb5d2f34382912539f125f\" data-view-component=\"true\" href=\"/topics/scikit-learn-python\" title=\"Topic: scikit-learn-python\">\n",
       "            scikit-learn-python\n",
       "</a> </div>\n",
       "<div class=\"p-3\">\n",
       "<ul class=\"d-flex f6 list-style-none color-fg-muted\">\n",
       "<li class=\"mr-4\">\n",
       "            Updated\n",
       "            <relative-time class=\"no-wrap\" datetime=\"2024-06-04T12:46:57Z\">Jun 4, 2024</relative-time>\n",
       "</li>\n",
       "<li class=\"mr-4\">\n",
       "<span class=\"f6 my-1 ml-0\">\n",
       "<span class=\"repo-language-color\" style=\"background-color: #e34c26\"></span>\n",
       "<span itemprop=\"programmingLanguage\">HTML</span>\n",
       "</span>\n",
       "</li>\n",
       "</ul>\n",
       "</div>\n",
       "</div>\n",
       "</article>"
      ]
     },
     "execution_count": 63,
     "metadata": {},
     "output_type": "execute_result"
    }
   ],
   "source": [
    "article_tag"
   ]
  },
  {
   "cell_type": "code",
   "execution_count": 64,
   "id": "327ff544",
   "metadata": {},
   "outputs": [
    {
     "data": {
      "text/plain": [
       "<h3 class=\"f3 color-fg-muted text-normal lh-condensed\">\n",
       "<a class=\"Link\" data-hydro-click='{\"event_type\":\"explore.click\",\"payload\":{\"click_context\":\"REPOSITORY_CARD\",\"click_target\":\"OWNER\",\"click_visual_representation\":\"REPOSITORY_OWNER_HEADING\",\"actor_id\":null,\"record_id\":6154722,\"originating_url\":\"https://github.com/topics/machine-learning\",\"user_id\":null}}' data-hydro-click-hmac=\"ce7c1880986fcc5cf78fd675165bf59f7da7919ad46e02c6c4ca45011e1f6f97\" data-turbo=\"false\" data-view-component=\"true\" href=\"/microsoft\">\n",
       "            microsoft\n",
       "</a>          /\n",
       "          <a class=\"Link text-bold wb-break-word\" data-hydro-click='{\"event_type\":\"explore.click\",\"payload\":{\"click_context\":\"REPOSITORY_CARD\",\"click_target\":\"REPOSITORY\",\"click_visual_representation\":\"REPOSITORY_NAME_HEADING\",\"actor_id\":null,\"record_id\":343965132,\"originating_url\":\"https://github.com/topics/machine-learning\",\"user_id\":null}}' data-hydro-click-hmac=\"04eb0a73e352b25eddc48d7faa71ca594c32afbf1c64f09e38e88a5abed6eee7\" data-turbo=\"false\" data-view-component=\"true\" href=\"/microsoft/ML-For-Beginners\">\n",
       "            ML-For-Beginners\n",
       "</a> </h3>"
      ]
     },
     "execution_count": 64,
     "metadata": {},
     "output_type": "execute_result"
    }
   ],
   "source": [
    "h3_tag = article_tag.find('h3')\n",
    "h3_tag"
   ]
  },
  {
   "cell_type": "code",
   "execution_count": 65,
   "id": "e76fc2e7",
   "metadata": {},
   "outputs": [],
   "source": [
    "a_tags = h3_tag.find_all('a', recursive=False)"
   ]
  },
  {
   "cell_type": "code",
   "execution_count": 66,
   "id": "95ac3e9f",
   "metadata": {},
   "outputs": [
    {
     "data": {
      "text/plain": [
       "'\\n            microsoft\\n'"
      ]
     },
     "execution_count": 66,
     "metadata": {},
     "output_type": "execute_result"
    }
   ],
   "source": [
    "username = a_tags[0].text\n",
    "username"
   ]
  },
  {
   "cell_type": "code",
   "execution_count": 67,
   "id": "6a608de7",
   "metadata": {},
   "outputs": [
    {
     "data": {
      "text/plain": [
       "'microsoft'"
      ]
     },
     "execution_count": 67,
     "metadata": {},
     "output_type": "execute_result"
    }
   ],
   "source": [
    "username = a_tags[0].text.strip()\n",
    "username"
   ]
  },
  {
   "cell_type": "code",
   "execution_count": 68,
   "id": "98a3e6d2",
   "metadata": {},
   "outputs": [
    {
     "data": {
      "text/plain": [
       "'ML-For-Beginners'"
      ]
     },
     "execution_count": 68,
     "metadata": {},
     "output_type": "execute_result"
    }
   ],
   "source": [
    "repo_name = a_tags[1].text.strip()\n",
    "repo_name"
   ]
  },
  {
   "cell_type": "code",
   "execution_count": 69,
   "id": "9696271f",
   "metadata": {},
   "outputs": [
    {
     "data": {
      "text/plain": [
       "'/microsoft/ML-For-Beginners'"
      ]
     },
     "execution_count": 69,
     "metadata": {},
     "output_type": "execute_result"
    }
   ],
   "source": [
    "repo_path = a_tags[1]['href'].strip()\n",
    "repo_path"
   ]
  },
  {
   "cell_type": "code",
   "execution_count": 70,
   "id": "54f623d4",
   "metadata": {},
   "outputs": [
    {
     "data": {
      "text/plain": [
       "'https://github.com/microsoft/ML-For-Beginners'"
      ]
     },
     "execution_count": 70,
     "metadata": {},
     "output_type": "execute_result"
    }
   ],
   "source": [
    "base_url = 'https://github.com'\n",
    "repo_url = base_url + repo_path \n",
    "repo_url"
   ]
  },
  {
   "cell_type": "code",
   "execution_count": 71,
   "id": "6a972c8e",
   "metadata": {},
   "outputs": [],
   "source": [
    "a_star_tag = article_tags[4].find('span', class_='Counter js-social-count')"
   ]
  },
  {
   "cell_type": "code",
   "execution_count": 72,
   "id": "8fb78337",
   "metadata": {},
   "outputs": [
    {
     "data": {
      "text/plain": [
       "<span aria-label=\"67671 users starred this repository\" class=\"Counter js-social-count\" data-plural-suffix=\"users starred this repository\" data-singular-suffix=\"user starred this repository\" data-turbo-replace=\"true\" data-view-component=\"true\" id=\"repo-stars-counter-star\" title=\"67,671\">67.7k</span>"
      ]
     },
     "execution_count": 72,
     "metadata": {},
     "output_type": "execute_result"
    }
   ],
   "source": [
    "a_star_tag"
   ]
  },
  {
   "cell_type": "code",
   "execution_count": 73,
   "id": "72f5fc5a",
   "metadata": {},
   "outputs": [
    {
     "data": {
      "text/plain": [
       "'67.7k'"
      ]
     },
     "execution_count": 73,
     "metadata": {},
     "output_type": "execute_result"
    }
   ],
   "source": [
    "a_star_tag.text.strip()"
   ]
  },
  {
   "cell_type": "code",
   "execution_count": 74,
   "id": "a1e3d4ef",
   "metadata": {},
   "outputs": [],
   "source": [
    "def parse_star_count(stars_str):\n",
    "    stars_str = stars_str.strip()\n",
    "    if stars_str[-1] == 'k':\n",
    "        return int(float(stars_str[:-1]) * 1000)\n",
    "    else:\n",
    "        return int(stars_str)"
   ]
  },
  {
   "cell_type": "code",
   "execution_count": 75,
   "id": "ea721740",
   "metadata": {},
   "outputs": [
    {
     "data": {
      "text/plain": [
       "67700"
      ]
     },
     "execution_count": 75,
     "metadata": {},
     "output_type": "execute_result"
    }
   ],
   "source": [
    "parse_star_count('67.7k')"
   ]
  },
  {
   "cell_type": "code",
   "execution_count": 76,
   "id": "9907f90c",
   "metadata": {},
   "outputs": [],
   "source": [
    "star_count = parse_star_count(a_star_tag.text.strip())"
   ]
  },
  {
   "cell_type": "code",
   "execution_count": 77,
   "id": "7a6a57e7",
   "metadata": {},
   "outputs": [
    {
     "data": {
      "text/plain": [
       "67700"
      ]
     },
     "execution_count": 77,
     "metadata": {},
     "output_type": "execute_result"
    }
   ],
   "source": [
    "star_count"
   ]
  },
  {
   "cell_type": "code",
   "execution_count": 78,
   "id": "dec11cea",
   "metadata": {},
   "outputs": [
    {
     "name": "stdout",
     "output_type": "stream",
     "text": [
      "Repository name: ML-For-Beginners\n",
      "Owner's username: microsoft\n",
      "Stars: 67700\n",
      "Repository URL: https://github.com/microsoft/ML-For-Beginners\n"
     ]
    }
   ],
   "source": [
    "print('Repository name:', repo_name)\n",
    "print(\"Owner's username:\", username)\n",
    "print('Stars:', star_count)\n",
    "print('Repository URL:', repo_url)"
   ]
  },
  {
   "cell_type": "code",
   "execution_count": 79,
   "id": "70f0d96a",
   "metadata": {},
   "outputs": [],
   "source": [
    "def parse_repository(article_tag):\n",
    "    # <a> tags containing username, repository name and URL\n",
    "    a_tags = article_tag.h3.find_all('a')\n",
    "    # Owner's username\n",
    "    username = a_tags[0].text.strip()\n",
    "    # Repository name\n",
    "    repo_name = a_tags[1].text.strip()\n",
    "    # Repository URL\n",
    "    repo_url = base_url + a_tags[1]['href'].strip()\n",
    "    # Star count\n",
    "    stars_tag = article_tag.find('span', class_='Counter js-social-count')\n",
    "    star_count = parse_star_count(stars_tag.text.strip())\n",
    "    # Return a dictionary\n",
    "    return {\n",
    "        'repository_name': repo_name,\n",
    "        'owner_username': username,        \n",
    "        'stars': star_count,\n",
    "        'repository_url': repo_url\n",
    "    }"
   ]
  },
  {
   "cell_type": "code",
   "execution_count": 80,
   "id": "570bf915",
   "metadata": {},
   "outputs": [
    {
     "data": {
      "text/plain": [
       "{'repository_name': 'tensorflow',\n",
       " 'owner_username': 'tensorflow',\n",
       " 'stars': 183000,\n",
       " 'repository_url': 'https://github.com/tensorflow/tensorflow'}"
      ]
     },
     "execution_count": 80,
     "metadata": {},
     "output_type": "execute_result"
    }
   ],
   "source": [
    "parse_repository(article_tags[0])"
   ]
  },
  {
   "cell_type": "code",
   "execution_count": 81,
   "id": "1e8e2967",
   "metadata": {},
   "outputs": [
    {
     "data": {
      "text/plain": [
       "{'repository_name': 'awesome-scalability',\n",
       " 'owner_username': 'binhnguyennus',\n",
       " 'stars': 55900,\n",
       " 'repository_url': 'https://github.com/binhnguyennus/awesome-scalability'}"
      ]
     },
     "execution_count": 81,
     "metadata": {},
     "output_type": "execute_result"
    }
   ],
   "source": [
    "parse_repository(article_tags[10])"
   ]
  },
  {
   "cell_type": "code",
   "execution_count": 82,
   "id": "41e29dbf",
   "metadata": {},
   "outputs": [],
   "source": [
    "top_repositories = [parse_repository(tag) for tag in article_tags]"
   ]
  },
  {
   "cell_type": "code",
   "execution_count": 83,
   "id": "882ad2f6",
   "metadata": {},
   "outputs": [
    {
     "data": {
      "text/plain": [
       "[{'repository_name': 'tensorflow',\n",
       "  'owner_username': 'tensorflow',\n",
       "  'stars': 183000,\n",
       "  'repository_url': 'https://github.com/tensorflow/tensorflow'},\n",
       " {'repository_name': 'transformers',\n",
       "  'owner_username': 'huggingface',\n",
       "  'stars': 127000,\n",
       "  'repository_url': 'https://github.com/huggingface/transformers'},\n",
       " {'repository_name': 'pytorch',\n",
       "  'owner_username': 'pytorch',\n",
       "  'stars': 79400,\n",
       "  'repository_url': 'https://github.com/pytorch/pytorch'},\n",
       " {'repository_name': 'netdata',\n",
       "  'owner_username': 'netdata',\n",
       "  'stars': 68800,\n",
       "  'repository_url': 'https://github.com/netdata/netdata'},\n",
       " {'repository_name': 'ML-For-Beginners',\n",
       "  'owner_username': 'microsoft',\n",
       "  'stars': 67700,\n",
       "  'repository_url': 'https://github.com/microsoft/ML-For-Beginners'},\n",
       " {'repository_name': 'cs-video-courses',\n",
       "  'owner_username': 'Developer-Y',\n",
       "  'stars': 65600,\n",
       "  'repository_url': 'https://github.com/Developer-Y/cs-video-courses'},\n",
       " {'repository_name': 'keras',\n",
       "  'owner_username': 'keras-team',\n",
       "  'stars': 61200,\n",
       "  'repository_url': 'https://github.com/keras-team/keras'},\n",
       " {'repository_name': 'tesseract',\n",
       "  'owner_username': 'tesseract-ocr',\n",
       "  'stars': 59000,\n",
       "  'repository_url': 'https://github.com/tesseract-ocr/tesseract'},\n",
       " {'repository_name': 'scikit-learn',\n",
       "  'owner_username': 'scikit-learn',\n",
       "  'stars': 58600,\n",
       "  'repository_url': 'https://github.com/scikit-learn/scikit-learn'},\n",
       " {'repository_name': 'd2l-zh',\n",
       "  'owner_username': 'd2l-ai',\n",
       "  'stars': 58000,\n",
       "  'repository_url': 'https://github.com/d2l-ai/d2l-zh'},\n",
       " {'repository_name': 'awesome-scalability',\n",
       "  'owner_username': 'binhnguyennus',\n",
       "  'stars': 55900,\n",
       "  'repository_url': 'https://github.com/binhnguyennus/awesome-scalability'},\n",
       " {'repository_name': 'face_recognition',\n",
       "  'owner_username': 'ageitgey',\n",
       "  'stars': 52200,\n",
       "  'repository_url': 'https://github.com/ageitgey/face_recognition'},\n",
       " {'repository_name': 'annotated_deep_learning_paper_implementations',\n",
       "  'owner_username': 'labmlai',\n",
       "  'stars': 49700,\n",
       "  'repository_url': 'https://github.com/labmlai/annotated_deep_learning_paper_implementations'},\n",
       " {'repository_name': 'faceswap',\n",
       "  'owner_username': 'deepfakes',\n",
       "  'stars': 49700,\n",
       "  'repository_url': 'https://github.com/deepfakes/faceswap'},\n",
       " {'repository_name': 'yolov5',\n",
       "  'owner_username': 'ultralytics',\n",
       "  'stars': 48000,\n",
       "  'repository_url': 'https://github.com/ultralytics/yolov5'},\n",
       " {'repository_name': 'DeepFaceLab',\n",
       "  'owner_username': 'iperov',\n",
       "  'stars': 46000,\n",
       "  'repository_url': 'https://github.com/iperov/DeepFaceLab'},\n",
       " {'repository_name': 'julia',\n",
       "  'owner_username': 'JuliaLang',\n",
       "  'stars': 44800,\n",
       "  'repository_url': 'https://github.com/JuliaLang/julia'},\n",
       " {'repository_name': '100-Days-Of-ML-Code',\n",
       "  'owner_username': 'Avik-Jain',\n",
       "  'stars': 43800,\n",
       "  'repository_url': 'https://github.com/Avik-Jain/100-Days-Of-ML-Code'},\n",
       " {'repository_name': 'TensorFlow-Examples',\n",
       "  'owner_username': 'aymericdamien',\n",
       "  'stars': 43300,\n",
       "  'repository_url': 'https://github.com/aymericdamien/TensorFlow-Examples'},\n",
       " {'repository_name': 'Open-Assistant',\n",
       "  'owner_username': 'LAION-AI',\n",
       "  'stars': 36800,\n",
       "  'repository_url': 'https://github.com/LAION-AI/Open-Assistant'}]"
      ]
     },
     "execution_count": 83,
     "metadata": {},
     "output_type": "execute_result"
    }
   ],
   "source": [
    "top_repositories"
   ]
  },
  {
   "cell_type": "code",
   "execution_count": 84,
   "id": "0e1e088e",
   "metadata": {},
   "outputs": [
    {
     "data": {
      "text/plain": [
       "20"
      ]
     },
     "execution_count": 84,
     "metadata": {},
     "output_type": "execute_result"
    }
   ],
   "source": [
    "len(top_repositories)"
   ]
  },
  {
   "cell_type": "code",
   "execution_count": 85,
   "id": "986f2413",
   "metadata": {},
   "outputs": [
    {
     "data": {
      "text/plain": [
       "[{'repository_name': 'tensorflow',\n",
       "  'owner_username': 'tensorflow',\n",
       "  'stars': 183000,\n",
       "  'repository_url': 'https://github.com/tensorflow/tensorflow'},\n",
       " {'repository_name': 'transformers',\n",
       "  'owner_username': 'huggingface',\n",
       "  'stars': 127000,\n",
       "  'repository_url': 'https://github.com/huggingface/transformers'},\n",
       " {'repository_name': 'pytorch',\n",
       "  'owner_username': 'pytorch',\n",
       "  'stars': 79400,\n",
       "  'repository_url': 'https://github.com/pytorch/pytorch'},\n",
       " {'repository_name': 'netdata',\n",
       "  'owner_username': 'netdata',\n",
       "  'stars': 68800,\n",
       "  'repository_url': 'https://github.com/netdata/netdata'},\n",
       " {'repository_name': 'ML-For-Beginners',\n",
       "  'owner_username': 'microsoft',\n",
       "  'stars': 67700,\n",
       "  'repository_url': 'https://github.com/microsoft/ML-For-Beginners'}]"
      ]
     },
     "execution_count": 85,
     "metadata": {},
     "output_type": "execute_result"
    }
   ],
   "source": [
    "top_repositories[:5]"
   ]
  },
  {
   "cell_type": "code",
   "execution_count": 86,
   "id": "9248800e",
   "metadata": {},
   "outputs": [],
   "source": [
    "def get_top_repositories(doc):\n",
    "    article_tags = doc.find_all('article', class_='border rounded color-shadow-small color-bg-subtle my-4')\n",
    "    topic_repos = [parse_repository(tag) for tag in article_tags]\n",
    "    return topic_repos"
   ]
  },
  {
   "cell_type": "code",
   "execution_count": 87,
   "id": "18002069",
   "metadata": {},
   "outputs": [
    {
     "data": {
      "text/plain": [
       "[{'repository_name': 'tensorflow',\n",
       "  'owner_username': 'tensorflow',\n",
       "  'stars': 183000,\n",
       "  'repository_url': 'https://github.com/tensorflow/tensorflow'},\n",
       " {'repository_name': 'transformers',\n",
       "  'owner_username': 'huggingface',\n",
       "  'stars': 127000,\n",
       "  'repository_url': 'https://github.com/huggingface/transformers'},\n",
       " {'repository_name': 'pytorch',\n",
       "  'owner_username': 'pytorch',\n",
       "  'stars': 79400,\n",
       "  'repository_url': 'https://github.com/pytorch/pytorch'},\n",
       " {'repository_name': 'netdata',\n",
       "  'owner_username': 'netdata',\n",
       "  'stars': 68800,\n",
       "  'repository_url': 'https://github.com/netdata/netdata'},\n",
       " {'repository_name': 'ML-For-Beginners',\n",
       "  'owner_username': 'microsoft',\n",
       "  'stars': 67700,\n",
       "  'repository_url': 'https://github.com/microsoft/ML-For-Beginners'}]"
      ]
     },
     "execution_count": 87,
     "metadata": {},
     "output_type": "execute_result"
    }
   ],
   "source": [
    "topic_page_ml = get_topic_page('machine-learning')\n",
    "top_repos_ml = get_top_repositories(topic_page_ml)\n",
    "top_repos_ml[:5]"
   ]
  },
  {
   "cell_type": "code",
   "execution_count": 88,
   "id": "1ad01e90",
   "metadata": {},
   "outputs": [
    {
     "data": {
      "text/plain": [
       "[{'repository_name': 'superset',\n",
       "  'owner_username': 'apache',\n",
       "  'stars': 60000,\n",
       "  'repository_url': 'https://github.com/apache/superset'},\n",
       " {'repository_name': 'scikit-learn',\n",
       "  'owner_username': 'scikit-learn',\n",
       "  'stars': 58600,\n",
       "  'repository_url': 'https://github.com/scikit-learn/scikit-learn'},\n",
       " {'repository_name': 'pandas',\n",
       "  'owner_username': 'pandas-dev',\n",
       "  'stars': 42400,\n",
       "  'repository_url': 'https://github.com/pandas-dev/pandas'},\n",
       " {'repository_name': 'metabase',\n",
       "  'owner_username': 'metabase',\n",
       "  'stars': 37100,\n",
       "  'repository_url': 'https://github.com/metabase/metabase'},\n",
       " {'repository_name': 'streamlit',\n",
       "  'owner_username': 'streamlit',\n",
       "  'stars': 32700,\n",
       "  'repository_url': 'https://github.com/streamlit/streamlit'}]"
      ]
     },
     "execution_count": 88,
     "metadata": {},
     "output_type": "execute_result"
    }
   ],
   "source": [
    "topic_page_da = get_topic_page('data-analysis')\n",
    "top_repos_da = get_top_repositories(topic_page_da)\n",
    "top_repos_da[:5]"
   ]
  },
  {
   "cell_type": "code",
   "execution_count": 89,
   "id": "a909b5e7",
   "metadata": {},
   "outputs": [
    {
     "data": {
      "text/plain": [
       "[{'repository_name': 'system-design-primer',\n",
       "  'owner_username': 'donnemartin',\n",
       "  'stars': 260000,\n",
       "  'repository_url': 'https://github.com/donnemartin/system-design-primer'},\n",
       " {'repository_name': 'awesome-python',\n",
       "  'owner_username': 'vinta',\n",
       "  'stars': 210000,\n",
       "  'repository_url': 'https://github.com/vinta/awesome-python'},\n",
       " {'repository_name': 'tensorflow',\n",
       "  'owner_username': 'tensorflow',\n",
       "  'stars': 183000,\n",
       "  'repository_url': 'https://github.com/tensorflow/tensorflow'},\n",
       " {'repository_name': 'Python',\n",
       "  'owner_username': 'TheAlgorithms',\n",
       "  'stars': 181000,\n",
       "  'repository_url': 'https://github.com/TheAlgorithms/Python'},\n",
       " {'repository_name': 'project-based-learning',\n",
       "  'owner_username': 'practical-tutorials',\n",
       "  'stars': 176000,\n",
       "  'repository_url': 'https://github.com/practical-tutorials/project-based-learning'}]"
      ]
     },
     "execution_count": 89,
     "metadata": {},
     "output_type": "execute_result"
    }
   ],
   "source": [
    "get_top_repositories(get_topic_page('python'))[:5]"
   ]
  },
  {
   "cell_type": "code",
   "execution_count": 90,
   "id": "e083aaa1",
   "metadata": {},
   "outputs": [],
   "source": [
    "def write_csv(items, path):\n",
    "    # Open the file in write mode\n",
    "    with open(path, 'w') as f:\n",
    "        # Return if there's nothing to write\n",
    "        if len(items) == 0:\n",
    "            return\n",
    "        \n",
    "        # Write the headers in the first line\n",
    "        headers = list(items[0].keys())\n",
    "        f.write(','.join(headers) + '\\n')\n",
    "        \n",
    "        # Write one item per line\n",
    "        for item in items:\n",
    "            values = []\n",
    "            for header in headers:\n",
    "                values.append(str(item.get(header, \"\")))\n",
    "            f.write(','.join(values) + \"\\n\")"
   ]
  },
  {
   "cell_type": "code",
   "execution_count": 91,
   "id": "08f2f1b8",
   "metadata": {},
   "outputs": [
    {
     "data": {
      "text/plain": [
       "20"
      ]
     },
     "execution_count": 91,
     "metadata": {},
     "output_type": "execute_result"
    }
   ],
   "source": [
    "len(top_repos_ml)"
   ]
  },
  {
   "cell_type": "code",
   "execution_count": 92,
   "id": "b5dfa45c",
   "metadata": {},
   "outputs": [
    {
     "data": {
      "text/plain": [
       "[{'repository_name': 'tensorflow',\n",
       "  'owner_username': 'tensorflow',\n",
       "  'stars': 183000,\n",
       "  'repository_url': 'https://github.com/tensorflow/tensorflow'},\n",
       " {'repository_name': 'transformers',\n",
       "  'owner_username': 'huggingface',\n",
       "  'stars': 127000,\n",
       "  'repository_url': 'https://github.com/huggingface/transformers'},\n",
       " {'repository_name': 'pytorch',\n",
       "  'owner_username': 'pytorch',\n",
       "  'stars': 79400,\n",
       "  'repository_url': 'https://github.com/pytorch/pytorch'}]"
      ]
     },
     "execution_count": 92,
     "metadata": {},
     "output_type": "execute_result"
    }
   ],
   "source": [
    "top_repos_ml[:3]"
   ]
  },
  {
   "cell_type": "code",
   "execution_count": 93,
   "id": "703b3ca8",
   "metadata": {},
   "outputs": [],
   "source": [
    "write_csv(top_repositories, 'machine-learning.csv')"
   ]
  },
  {
   "cell_type": "code",
   "execution_count": 94,
   "id": "d97aee11",
   "metadata": {},
   "outputs": [
    {
     "name": "stdout",
     "output_type": "stream",
     "text": [
      "repository_name,owner_username,stars,repository_url\n",
      "tensorflow,tensorflow,183000,https://github.com/tensorflow/tensorflow\n",
      "transformers,huggingface,127000,https://github.com/huggingface/transformers\n",
      "pytorch,pytorch,79400,https://github.com/pytorch/pytorch\n",
      "netdata,netdata,68800,https://github.com/netdata/netdata\n",
      "ML-For-Beginners,microsoft,67700,https://github.com/microsoft/ML-For-Beginners\n",
      "cs-video-courses,Developer-Y,65600,https://github.com/Developer-Y/cs-video-courses\n",
      "keras,keras-team,61200,https://github.com/keras-team/keras\n",
      "tesseract,tesseract-ocr,59000,https://github.com/tesseract-ocr/tesseract\n",
      "scikit-learn,scikit-learn,58600,https://github.com/scikit-learn/scikit-learn\n",
      "d2l-zh,d2l-ai,58000,https://github.com/d2l-ai/d2l-zh\n",
      "awesome-scalability,binhnguyennus,55900,https://github.com/binhnguyennus/awesome-scalability\n",
      "face_recognition,ageitgey,52200,https://github.com/ageitgey/face_recognition\n",
      "annotated_deep_learning_paper_implementations,labmlai,49700,https://github.com/labmlai/annotated_deep_learning_paper_implementations\n",
      "faceswap,deepfakes,49700,https://github.com/deepfakes/faceswap\n",
      "yolov5,ultralytics,48000,https://github.com/ultralytics/yolov5\n",
      "DeepFaceLab,iperov,46000,https://github.com/iperov/DeepFaceLab\n",
      "julia,JuliaLang,44800,https://github.com/JuliaLang/julia\n",
      "100-Days-Of-ML-Code,Avik-Jain,43800,https://github.com/Avik-Jain/100-Days-Of-ML-Code\n",
      "TensorFlow-Examples,aymericdamien,43300,https://github.com/aymericdamien/TensorFlow-Examples\n",
      "Open-Assistant,LAION-AI,36800,https://github.com/LAION-AI/Open-Assistant\n",
      "\n"
     ]
    }
   ],
   "source": [
    "with open('machine-learning.csv', 'r') as f:\n",
    "    print(f.read())"
   ]
  },
  {
   "cell_type": "code",
   "execution_count": 95,
   "id": "ba86a3ab",
   "metadata": {},
   "outputs": [],
   "source": [
    "import requests\n",
    "from bs4 import BeautifulSoup\n",
    "base_url = 'https://github.com'\n",
    "\n",
    "def scrape_topic_repositories(topic, path=None):\n",
    "    \"\"\"Get the top repositories for a topic and write them to a CSV file\"\"\"\n",
    "    if path is None:\n",
    "        path = topic + '.csv'\n",
    "    topic_page_doc = get_topic_page(topic)\n",
    "    topic_repositories = get_top_repositories(topic_page_doc)\n",
    "    write_csv(topic_repositories, path)\n",
    "    print('Top repositories for topic \"{}\" written to file \"{}\"'.format(topic, path))\n",
    "    return path\n",
    "\n",
    "def get_top_repositories(doc):\n",
    "    \"\"\"Parse the top repositories for a topic given a Beautiful Soup document\"\"\"\n",
    "    article_tags = doc.find_all('article', class_='border rounded color-shadow-small color-bg-subtle my-4')\n",
    "    topic_repos = [parse_repository(tag) for tag in article_tags]\n",
    "    return topic_repos\n",
    "\n",
    "def get_topic_page(topic):\n",
    "    \"\"\"Get the web page containing the top repositories for a topic as a Beautiful Soup document\"\"\"\n",
    "    topic_repos_url = 'https://github.com/topics/' + topic\n",
    "    response = requests.get(topic_repos_url)\n",
    "    if response.status_code != 200:\n",
    "        print('Status code:', response.status_code)\n",
    "        raise Exception('Failed to fetch web page ' + topic_repos_url)\n",
    "    return BeautifulSoup(response.text)    \n",
    "\n",
    "def parse_repository(article_tag):\n",
    "    \"\"\"Parse information about a repository from an <article> tag\"\"\"\n",
    "    a_tags = article_tag.h3.find_all('a')\n",
    "    username = a_tags[0].text.strip()\n",
    "    repo_name = a_tags[1].text.strip()\n",
    "    repo_url = base_url + a_tags[1]['href'].strip()\n",
    "    stars_tag = article_tag.find('span', class_='Counter js-social-count')\n",
    "    star_count = parse_star_count(stars_tag.text.strip())\n",
    "    return {'repository_name': repo_name, 'owner_username': username, 'stars': star_count, 'repository_url': repo_url}\n",
    "\n",
    "def parse_star_count(stars_str):\n",
    "    \"\"\"Parse strings like 40.3k and get the no. of stars as a number\"\"\"\n",
    "    stars_str = stars_str.strip()\n",
    "    return int(float(stars_str[:-1]) * 1000) if stars_str[-1] == 'k' else int(stars_str)\n",
    "\n",
    "def write_csv(items, path):\n",
    "    \"\"\"Write a list of dictionaries to a CSV file\"\"\"\n",
    "    with open(path, 'w') as f:\n",
    "        if len(items) == 0:\n",
    "            return\n",
    "        headers = list(items[0].keys())\n",
    "        f.write(','.join(headers) + '\\n')\n",
    "        for item in items:\n",
    "            values = []\n",
    "            for header in headers:\n",
    "                values.append(str(item.get(header, \"\")))\n",
    "            f.write(','.join(values) + \"\\n\")"
   ]
  },
  {
   "cell_type": "code",
   "execution_count": 96,
   "id": "a0113503",
   "metadata": {},
   "outputs": [
    {
     "name": "stdout",
     "output_type": "stream",
     "text": [
      "Top repositories for topic \"machine-learning\" written to file \"machine-learning.csv\"\n"
     ]
    },
    {
     "data": {
      "text/plain": [
       "'machine-learning.csv'"
      ]
     },
     "execution_count": 96,
     "metadata": {},
     "output_type": "execute_result"
    }
   ],
   "source": [
    "scrape_topic_repositories('machine-learning')"
   ]
  },
  {
   "cell_type": "code",
   "execution_count": 97,
   "id": "24b6f3e9",
   "metadata": {},
   "outputs": [],
   "source": [
    "import pandas as pd"
   ]
  },
  {
   "cell_type": "code",
   "execution_count": 98,
   "id": "60b4e948",
   "metadata": {},
   "outputs": [
    {
     "data": {
      "text/html": [
       "<div>\n",
       "<style scoped>\n",
       "    .dataframe tbody tr th:only-of-type {\n",
       "        vertical-align: middle;\n",
       "    }\n",
       "\n",
       "    .dataframe tbody tr th {\n",
       "        vertical-align: top;\n",
       "    }\n",
       "\n",
       "    .dataframe thead th {\n",
       "        text-align: right;\n",
       "    }\n",
       "</style>\n",
       "<table border=\"1\" class=\"dataframe\">\n",
       "  <thead>\n",
       "    <tr style=\"text-align: right;\">\n",
       "      <th></th>\n",
       "      <th>repository_name</th>\n",
       "      <th>owner_username</th>\n",
       "      <th>stars</th>\n",
       "      <th>repository_url</th>\n",
       "    </tr>\n",
       "  </thead>\n",
       "  <tbody>\n",
       "    <tr>\n",
       "      <th>0</th>\n",
       "      <td>tensorflow</td>\n",
       "      <td>tensorflow</td>\n",
       "      <td>183000</td>\n",
       "      <td>https://github.com/tensorflow/tensorflow</td>\n",
       "    </tr>\n",
       "    <tr>\n",
       "      <th>1</th>\n",
       "      <td>transformers</td>\n",
       "      <td>huggingface</td>\n",
       "      <td>127000</td>\n",
       "      <td>https://github.com/huggingface/transformers</td>\n",
       "    </tr>\n",
       "    <tr>\n",
       "      <th>2</th>\n",
       "      <td>pytorch</td>\n",
       "      <td>pytorch</td>\n",
       "      <td>79400</td>\n",
       "      <td>https://github.com/pytorch/pytorch</td>\n",
       "    </tr>\n",
       "    <tr>\n",
       "      <th>3</th>\n",
       "      <td>netdata</td>\n",
       "      <td>netdata</td>\n",
       "      <td>68800</td>\n",
       "      <td>https://github.com/netdata/netdata</td>\n",
       "    </tr>\n",
       "    <tr>\n",
       "      <th>4</th>\n",
       "      <td>ML-For-Beginners</td>\n",
       "      <td>microsoft</td>\n",
       "      <td>67700</td>\n",
       "      <td>https://github.com/microsoft/ML-For-Beginners</td>\n",
       "    </tr>\n",
       "    <tr>\n",
       "      <th>5</th>\n",
       "      <td>cs-video-courses</td>\n",
       "      <td>Developer-Y</td>\n",
       "      <td>65600</td>\n",
       "      <td>https://github.com/Developer-Y/cs-video-courses</td>\n",
       "    </tr>\n",
       "    <tr>\n",
       "      <th>6</th>\n",
       "      <td>keras</td>\n",
       "      <td>keras-team</td>\n",
       "      <td>61200</td>\n",
       "      <td>https://github.com/keras-team/keras</td>\n",
       "    </tr>\n",
       "    <tr>\n",
       "      <th>7</th>\n",
       "      <td>tesseract</td>\n",
       "      <td>tesseract-ocr</td>\n",
       "      <td>59000</td>\n",
       "      <td>https://github.com/tesseract-ocr/tesseract</td>\n",
       "    </tr>\n",
       "    <tr>\n",
       "      <th>8</th>\n",
       "      <td>scikit-learn</td>\n",
       "      <td>scikit-learn</td>\n",
       "      <td>58600</td>\n",
       "      <td>https://github.com/scikit-learn/scikit-learn</td>\n",
       "    </tr>\n",
       "    <tr>\n",
       "      <th>9</th>\n",
       "      <td>d2l-zh</td>\n",
       "      <td>d2l-ai</td>\n",
       "      <td>58000</td>\n",
       "      <td>https://github.com/d2l-ai/d2l-zh</td>\n",
       "    </tr>\n",
       "    <tr>\n",
       "      <th>10</th>\n",
       "      <td>awesome-scalability</td>\n",
       "      <td>binhnguyennus</td>\n",
       "      <td>55900</td>\n",
       "      <td>https://github.com/binhnguyennus/awesome-scala...</td>\n",
       "    </tr>\n",
       "    <tr>\n",
       "      <th>11</th>\n",
       "      <td>face_recognition</td>\n",
       "      <td>ageitgey</td>\n",
       "      <td>52200</td>\n",
       "      <td>https://github.com/ageitgey/face_recognition</td>\n",
       "    </tr>\n",
       "    <tr>\n",
       "      <th>12</th>\n",
       "      <td>annotated_deep_learning_paper_implementations</td>\n",
       "      <td>labmlai</td>\n",
       "      <td>49700</td>\n",
       "      <td>https://github.com/labmlai/annotated_deep_lear...</td>\n",
       "    </tr>\n",
       "    <tr>\n",
       "      <th>13</th>\n",
       "      <td>faceswap</td>\n",
       "      <td>deepfakes</td>\n",
       "      <td>49700</td>\n",
       "      <td>https://github.com/deepfakes/faceswap</td>\n",
       "    </tr>\n",
       "    <tr>\n",
       "      <th>14</th>\n",
       "      <td>yolov5</td>\n",
       "      <td>ultralytics</td>\n",
       "      <td>48000</td>\n",
       "      <td>https://github.com/ultralytics/yolov5</td>\n",
       "    </tr>\n",
       "    <tr>\n",
       "      <th>15</th>\n",
       "      <td>DeepFaceLab</td>\n",
       "      <td>iperov</td>\n",
       "      <td>46000</td>\n",
       "      <td>https://github.com/iperov/DeepFaceLab</td>\n",
       "    </tr>\n",
       "    <tr>\n",
       "      <th>16</th>\n",
       "      <td>julia</td>\n",
       "      <td>JuliaLang</td>\n",
       "      <td>44800</td>\n",
       "      <td>https://github.com/JuliaLang/julia</td>\n",
       "    </tr>\n",
       "    <tr>\n",
       "      <th>17</th>\n",
       "      <td>100-Days-Of-ML-Code</td>\n",
       "      <td>Avik-Jain</td>\n",
       "      <td>43800</td>\n",
       "      <td>https://github.com/Avik-Jain/100-Days-Of-ML-Code</td>\n",
       "    </tr>\n",
       "    <tr>\n",
       "      <th>18</th>\n",
       "      <td>TensorFlow-Examples</td>\n",
       "      <td>aymericdamien</td>\n",
       "      <td>43300</td>\n",
       "      <td>https://github.com/aymericdamien/TensorFlow-Ex...</td>\n",
       "    </tr>\n",
       "    <tr>\n",
       "      <th>19</th>\n",
       "      <td>Open-Assistant</td>\n",
       "      <td>LAION-AI</td>\n",
       "      <td>36800</td>\n",
       "      <td>https://github.com/LAION-AI/Open-Assistant</td>\n",
       "    </tr>\n",
       "  </tbody>\n",
       "</table>\n",
       "</div>"
      ],
      "text/plain": [
       "                                  repository_name owner_username   stars  \\\n",
       "0                                      tensorflow     tensorflow  183000   \n",
       "1                                    transformers    huggingface  127000   \n",
       "2                                         pytorch        pytorch   79400   \n",
       "3                                         netdata        netdata   68800   \n",
       "4                                ML-For-Beginners      microsoft   67700   \n",
       "5                                cs-video-courses    Developer-Y   65600   \n",
       "6                                           keras     keras-team   61200   \n",
       "7                                       tesseract  tesseract-ocr   59000   \n",
       "8                                    scikit-learn   scikit-learn   58600   \n",
       "9                                          d2l-zh         d2l-ai   58000   \n",
       "10                            awesome-scalability  binhnguyennus   55900   \n",
       "11                               face_recognition       ageitgey   52200   \n",
       "12  annotated_deep_learning_paper_implementations        labmlai   49700   \n",
       "13                                       faceswap      deepfakes   49700   \n",
       "14                                         yolov5    ultralytics   48000   \n",
       "15                                    DeepFaceLab         iperov   46000   \n",
       "16                                          julia      JuliaLang   44800   \n",
       "17                            100-Days-Of-ML-Code      Avik-Jain   43800   \n",
       "18                            TensorFlow-Examples  aymericdamien   43300   \n",
       "19                                 Open-Assistant       LAION-AI   36800   \n",
       "\n",
       "                                       repository_url  \n",
       "0            https://github.com/tensorflow/tensorflow  \n",
       "1         https://github.com/huggingface/transformers  \n",
       "2                  https://github.com/pytorch/pytorch  \n",
       "3                  https://github.com/netdata/netdata  \n",
       "4       https://github.com/microsoft/ML-For-Beginners  \n",
       "5     https://github.com/Developer-Y/cs-video-courses  \n",
       "6                 https://github.com/keras-team/keras  \n",
       "7          https://github.com/tesseract-ocr/tesseract  \n",
       "8        https://github.com/scikit-learn/scikit-learn  \n",
       "9                    https://github.com/d2l-ai/d2l-zh  \n",
       "10  https://github.com/binhnguyennus/awesome-scala...  \n",
       "11       https://github.com/ageitgey/face_recognition  \n",
       "12  https://github.com/labmlai/annotated_deep_lear...  \n",
       "13              https://github.com/deepfakes/faceswap  \n",
       "14              https://github.com/ultralytics/yolov5  \n",
       "15              https://github.com/iperov/DeepFaceLab  \n",
       "16                 https://github.com/JuliaLang/julia  \n",
       "17   https://github.com/Avik-Jain/100-Days-Of-ML-Code  \n",
       "18  https://github.com/aymericdamien/TensorFlow-Ex...  \n",
       "19         https://github.com/LAION-AI/Open-Assistant  "
      ]
     },
     "execution_count": 98,
     "metadata": {},
     "output_type": "execute_result"
    }
   ],
   "source": [
    "pd.read_csv('machine-learning.csv')"
   ]
  }
 ],
 "metadata": {
  "kernelspec": {
   "display_name": "Python 3 (ipykernel)",
   "language": "python",
   "name": "python3"
  },
  "language_info": {
   "codemirror_mode": {
    "name": "ipython",
    "version": 3
   },
   "file_extension": ".py",
   "mimetype": "text/x-python",
   "name": "python",
   "nbconvert_exporter": "python",
   "pygments_lexer": "ipython3",
   "version": "3.11.5"
  }
 },
 "nbformat": 4,
 "nbformat_minor": 5
}
